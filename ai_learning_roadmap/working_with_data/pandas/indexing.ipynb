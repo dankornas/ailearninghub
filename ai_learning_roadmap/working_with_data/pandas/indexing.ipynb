{
 "cells": [
  {
   "cell_type": "markdown",
   "id": "f16f2508",
   "metadata": {},
   "source": [
    "<iframe\n",
    "  style=\"width: 100%; aspect-ratio: 16 / 9;\"\n",
    "  src=\"https://www.youtube.com/embed/QjYFQUC7AQ4\"\n",
    "  title=\"YouTube video player\"\n",
    "  frameborder=\"0\"\n",
    "  allow=\"accelerometer; autoplay; clipboard-write; encrypted-media; gyroscope; picture-in-picture; web-share\"\n",
    "  allowfullscreen>\n",
    "</iframe>"
   ]
  },
  {
   "cell_type": "markdown",
   "id": "e30b8a5f",
   "metadata": {},
   "source": [
    "# Basics of Pandas in Python: Data Indexing, Selection, and Iteration\n",
    "\n",
    "## Data Indexing and Selection\n",
    "\n",
    "Data indexing and selection are fundamental operations in data analysis. They allow you to access and manipulate subsets of your data.\n",
    "\n",
    "### Creating a DataFrame\n",
    "\n",
    "Let's start by creating a DataFrame. Suppose we have data about students and their scores in different subjects."
   ]
  },
  {
   "cell_type": "code",
   "execution_count": null,
   "id": "c521bcfa",
   "metadata": {},
   "outputs": [],
   "source": [
    "import pandas as pd\n",
    "\n",
    "# Creating a DataFrame from a dictionary\n",
    "student_data = {\n",
    "    'Student': ['Alice', 'Bob', 'Charlie', 'David'],\n",
    "    'Math': [85, 92, 78, 88],\n",
    "    'Science': [91, 89, 84, 95],\n",
    "    'English': [79, 85, 87, 90]\n",
    "}\n",
    "\n",
    "df = pd.DataFrame(student_data, index=['a', 'b', 'c', 'd'])"
   ]
  },
  {
   "cell_type": "markdown",
   "id": "0eb55252",
   "metadata": {},
   "source": [
    "### Selecting Columns\n",
    "\n",
    "You can select a single column using bracket notation or dot notation."
   ]
  },
  {
   "cell_type": "code",
   "execution_count": null,
   "id": "f63a464e",
   "metadata": {},
   "outputs": [],
   "source": [
    "# Using bracket notation\n",
    "math_scores = df['Math']\n",
    "\n",
    "# Using dot notation\n",
    "science_scores = df.Science"
   ]
  },
  {
   "cell_type": "markdown",
   "id": "59d77463",
   "metadata": {},
   "source": [
    "To select multiple columns, pass a list of column names."
   ]
  },
  {
   "cell_type": "code",
   "execution_count": null,
   "id": "a7cae836",
   "metadata": {},
   "outputs": [],
   "source": [
    "# Selecting multiple columns\n",
    "selected_columns = df[['Math', 'English']]"
   ]
  },
  {
   "cell_type": "markdown",
   "id": "baf7af09",
   "metadata": {},
   "source": [
    "### Selecting Rows\n",
    "\n",
    "You can select rows using slicing."
   ]
  },
  {
   "cell_type": "code",
   "execution_count": null,
   "id": "f7283e01",
   "metadata": {},
   "outputs": [],
   "source": [
    "# Selecting the first two rows\n",
    "first_two_rows = df[0:2]"
   ]
  },
  {
   "cell_type": "markdown",
   "id": "560bd2a4",
   "metadata": {},
   "source": [
    "Note that when slicing rows, the end index is exclusive.\n",
    "\n",
    "### Using `.loc` for Label-Based Selection\n",
    "\n",
    "The `.loc` indexer allows you to select data by label."
   ]
  },
  {
   "cell_type": "code",
   "execution_count": null,
   "id": "5a75cfaa",
   "metadata": {},
   "outputs": [],
   "source": [
    "# Selecting a single row by index label\n",
    "row_a = df.loc['a']\n",
    "\n",
    "# Selecting multiple rows by index labels\n",
    "rows_b_to_d = df.loc['b':'d']"
   ]
  },
  {
   "cell_type": "markdown",
   "id": "fa47c5db",
   "metadata": {},
   "source": [
    "When using `.loc`, the end index is inclusive.\n",
    "\n",
    "### Using `.iloc` for Position-Based Selection\n",
    "\n",
    "The `.iloc` indexer allows you to select data by integer position."
   ]
  },
  {
   "cell_type": "code",
   "execution_count": null,
   "id": "d9b9cfea",
   "metadata": {},
   "outputs": [],
   "source": [
    "# Selecting a single row by integer position\n",
    "second_row = df.iloc[1]\n",
    "\n",
    "# Selecting multiple rows by integer positions\n",
    "rows_1_and_2 = df.iloc[1:3]"
   ]
  },
  {
   "cell_type": "markdown",
   "id": "eff4a232",
   "metadata": {},
   "source": [
    "With `.iloc`, the end index is exclusive.\n",
    "\n",
    "### Selecting Specific Rows and Columns\n",
    "\n",
    "You can select specific rows and columns using `.loc` and `.iloc`."
   ]
  },
  {
   "cell_type": "code",
   "execution_count": null,
   "id": "c434ae26",
   "metadata": {},
   "outputs": [],
   "source": [
    "# Selecting specific rows and columns using .loc\n",
    "math_scores_b_to_c = df.loc['b':'c', 'Math']\n",
    "\n",
    "# Selecting specific rows and columns using .iloc\n",
    "science_scores_rows_0_and_2 = df.iloc[[0, 2], [2]]"
   ]
  },
  {
   "cell_type": "markdown",
   "id": "fbe82874",
   "metadata": {},
   "source": [
    "## Conditional Selection\n",
    "\n",
    "Conditional selection allows you to select data that meets certain criteria.\n",
    "\n",
    "### Selecting Based on Conditions"
   ]
  },
  {
   "cell_type": "code",
   "execution_count": null,
   "id": "087bf26a",
   "metadata": {},
   "outputs": [],
   "source": [
    "# Selecting students with Math score greater than 80\n",
    "high_math_scores = df[df['Math'] > 80]\n",
    "\n",
    "# Selecting students who scored above 85 in Science\n",
    "top_science_students = df[df['Science'] > 85]"
   ]
  },
  {
   "cell_type": "markdown",
   "id": "3a9cdb2c",
   "metadata": {},
   "source": [
    "### Using Multiple Conditions\n",
    "\n",
    "You can combine conditions using `&` (and) and `|` (or)."
   ]
  },
  {
   "cell_type": "code",
   "execution_count": null,
   "id": "230de52c",
   "metadata": {},
   "outputs": [],
   "source": [
    "# Students who scored above 80 in both Math and Science\n",
    "high_scores = df[(df['Math'] > 80) & (df['Science'] > 80)]\n",
    "\n",
    "# Students who scored above 90 in Math or Science\n",
    "excellent_scores = df[(df['Math'] > 90) | (df['Science'] > 90)]"
   ]
  },
  {
   "cell_type": "markdown",
   "id": "a2ebc27e",
   "metadata": {},
   "source": [
    "### Using the `isin()` Method\n",
    "\n",
    "The `isin()` method checks if each element is in a given list."
   ]
  },
  {
   "cell_type": "code",
   "execution_count": null,
   "id": "8ed37d44",
   "metadata": {},
   "outputs": [],
   "source": [
    "# Selecting students named 'Alice' or 'David'\n",
    "selected_students = df[df['Student'].isin(['Alice', 'David'])]"
   ]
  },
  {
   "cell_type": "markdown",
   "id": "5747593d",
   "metadata": {},
   "source": [
    "### Using the `where()` Method\n",
    "\n",
    "The `where()` method replaces values that don't meet the condition with a specified value, typically `NaN`."
   ]
  },
  {
   "cell_type": "code",
   "execution_count": null,
   "id": "967b10ed",
   "metadata": {},
   "outputs": [],
   "source": [
    "# Keeping only scores above 85, others are replaced with NaN\n",
    "high_scores_only = df.where(df[['Math', 'Science', 'English']] > 85)"
   ]
  },
  {
   "cell_type": "markdown",
   "id": "aa12c111",
   "metadata": {},
   "source": [
    "You can also specify a value to replace the non-matching entries."
   ]
  },
  {
   "cell_type": "code",
   "execution_count": null,
   "id": "c5837ee5",
   "metadata": {},
   "outputs": [],
   "source": [
    "# Replacing scores below 85 with 0\n",
    "adjusted_scores = df[['Math', 'Science', 'English']].where(df[['Math', 'Science', 'English']] > 85, 0)"
   ]
  },
  {
   "cell_type": "markdown",
   "id": "b62e4600",
   "metadata": {},
   "source": [
    "## Iteration over DataFrames\n",
    "\n",
    "While Pandas is optimized for vectorized operations, sometimes you need to iterate over data.\n",
    "\n",
    "### Iterating Over Columns\n",
    "\n",
    "You can iterate over columns using the `items()` method."
   ]
  },
  {
   "cell_type": "code",
   "execution_count": null,
   "id": "3f1f7694",
   "metadata": {},
   "outputs": [],
   "source": [
    "# Iterating over columns\n",
    "for column_name, column_data in df.items():\n",
    "    print(f\"Column Name: {column_name}\")\n",
    "    print(column_data)"
   ]
  },
  {
   "cell_type": "markdown",
   "id": "b3624e38",
   "metadata": {},
   "source": [
    "### Iterating Over Rows with `iterrows()`\n",
    "\n",
    "The `iterrows()` method allows you to iterate over rows as (index, Series) pairs."
   ]
  },
  {
   "cell_type": "code",
   "execution_count": null,
   "id": "4de07c80",
   "metadata": {},
   "outputs": [],
   "source": [
    "# Iterating over rows\n",
    "for index, row in df.iterrows():\n",
    "    print(f\"Index: {index}\")\n",
    "    print(row)"
   ]
  },
  {
   "cell_type": "markdown",
   "id": "3a10515f",
   "metadata": {},
   "source": [
    "### Iterating Over Rows with `itertuples()`\n",
    "\n",
    "The `itertuples()` method lets you iterate over rows as namedtuples."
   ]
  },
  {
   "cell_type": "code",
   "execution_count": null,
   "id": "dee57ef2",
   "metadata": {},
   "outputs": [],
   "source": [
    "# Iterating over rows as namedtuples\n",
    "for row in df.itertuples():\n",
    "    print(row)"
   ]
  },
  {
   "cell_type": "markdown",
   "id": "f936aeba",
   "metadata": {},
   "source": [
    "## Practical Examples\n",
    "\n",
    "Let's apply what we've learned to more complex scenarios.\n",
    "\n",
    "### Example 1: Calculating Total Scores\n",
    "\n",
    "Suppose we want to calculate the total score for each student."
   ]
  },
  {
   "cell_type": "code",
   "execution_count": null,
   "id": "b48aa6b2",
   "metadata": {},
   "outputs": [],
   "source": [
    "# Adding a Total column\n",
    "df['Total'] = df['Math'] + df['Science'] + df['English']"
   ]
  },
  {
   "cell_type": "markdown",
   "id": "34dfdf18",
   "metadata": {},
   "source": [
    "### Example 2: Selecting Top Performers\n",
    "\n",
    "We can select students who have a total score above a certain threshold."
   ]
  },
  {
   "cell_type": "code",
   "execution_count": null,
   "id": "8fdfac2b",
   "metadata": {},
   "outputs": [],
   "source": [
    "# Students with total score above 260\n",
    "top_performers = df[df['Total'] > 260]"
   ]
  },
  {
   "cell_type": "markdown",
   "id": "c204d90b",
   "metadata": {},
   "source": [
    "### Example 3: Updating Data Based on Condition\n",
    "\n",
    "Suppose we want to assign grades based on total scores."
   ]
  },
  {
   "cell_type": "code",
   "execution_count": null,
   "id": "d36f036b",
   "metadata": {},
   "outputs": [],
   "source": [
    "# Defining a function to assign grades\n",
    "def assign_grade(total):\n",
    "    if total >= 270:\n",
    "        return 'A'\n",
    "    elif total >= 240:\n",
    "        return 'B'\n",
    "    else:\n",
    "        return 'C'\n",
    "\n",
    "# Applying the function to create a Grade column\n",
    "df['Grade'] = df['Total'].apply(assign_grade)"
   ]
  },
  {
   "cell_type": "markdown",
   "id": "480d6299",
   "metadata": {},
   "source": [
    "### Example 4: Using `apply()` with Rows\n",
    "\n",
    "You can use the `apply()` function along rows to perform complex operations."
   ]
  },
  {
   "cell_type": "code",
   "execution_count": null,
   "id": "b465e06e",
   "metadata": {},
   "outputs": [],
   "source": [
    "# Calculating the average score for each student\n",
    "df['Average'] = df[['Math', 'Science', 'English']].apply(lambda x: x.mean(), axis=1)"
   ]
  },
  {
   "cell_type": "markdown",
   "id": "714d9786",
   "metadata": {},
   "source": [
    "### Example 5: Filtering with Multiple Conditions\n",
    "\n",
    "Select students who have high scores in Math and English but average in Science."
   ]
  },
  {
   "cell_type": "code",
   "execution_count": null,
   "id": "c620c055",
   "metadata": {},
   "outputs": [],
   "source": [
    "# Students with Math and English scores above 85 and Science below 90\n",
    "specific_students = df[(df['Math'] > 85) & (df['English'] > 85) & (df['Science'] < 90)]"
   ]
  },
  {
   "cell_type": "markdown",
   "id": "eecfe289",
   "metadata": {},
   "source": [
    "## Advanced Selection Techniques\n",
    "\n",
    "### Using Boolean Indexing with `~` Operator\n",
    "\n",
    "The `~` operator inverts a boolean Series."
   ]
  },
  {
   "cell_type": "code",
   "execution_count": null,
   "id": "b0db0336",
   "metadata": {},
   "outputs": [],
   "source": [
    "# Students who are not 'Bob'\n",
    "non_bob_students = df[~(df['Student'] == 'Bob')]"
   ]
  },
  {
   "cell_type": "markdown",
   "id": "f7ac0ac3",
   "metadata": {},
   "source": [
    "### Selecting with Regular Expressions\n",
    "\n",
    "You can use the `str.contains()` method for string matching."
   ]
  },
  {
   "cell_type": "code",
   "execution_count": null,
   "id": "0f403a68",
   "metadata": {},
   "outputs": [],
   "source": [
    "# Selecting students whose names start with 'A'\n",
    "students_starting_with_a = df[df['Student'].str.contains('^A')]"
   ]
  },
  {
   "cell_type": "markdown",
   "id": "e992eeff",
   "metadata": {},
   "source": [
    "### Setting Values Based on Condition\n",
    "\n",
    "You can modify DataFrame values based on a condition."
   ]
  },
  {
   "cell_type": "code",
   "execution_count": null,
   "id": "6c8f36b9",
   "metadata": {},
   "outputs": [],
   "source": [
    "# Setting English score to 95 for students with Grade 'A'\n",
    "df.loc[df['Grade'] == 'A', 'English'] = 95"
   ]
  }
 ],
 "metadata": {
  "jupytext": {
   "cell_metadata_filter": "-all",
   "main_language": "python",
   "notebook_metadata_filter": "-all"
  },
  "language_info": {
   "name": "python"
  }
 },
 "nbformat": 4,
 "nbformat_minor": 5
}
