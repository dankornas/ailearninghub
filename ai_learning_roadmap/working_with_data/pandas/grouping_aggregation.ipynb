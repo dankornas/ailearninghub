{
 "cells": [
  {
   "cell_type": "markdown",
   "id": "8f9facc2",
   "metadata": {},
   "source": [
    "<iframe\n",
    "  style=\"width: 100%; aspect-ratio: 16 / 9;\"\n",
    "  src=\"https://www.youtube.com/embed/7uIqaMevDvQ\"\n",
    "  title=\"YouTube video player\"\n",
    "  frameborder=\"0\"\n",
    "  allow=\"accelerometer; autoplay; clipboard-write; encrypted-media; gyroscope; picture-in-picture; web-share\"\n",
    "  allowfullscreen>\n",
    "</iframe>"
   ]
  },
  {
   "cell_type": "markdown",
   "id": "7d4fc31d",
   "metadata": {},
   "source": [
    "# Basics of Pandas in Python: Aggregation & Groupby Methods\n",
    "\n",
    "Pandas is a powerful library in Python used for data manipulation and analysis. This tutorial will guide you through the basics of aggregation and groupby methods in Pandas, which are essential for summarizing and analyzing data.\n",
    "\n",
    "## Aggregation Methods\n",
    "\n",
    "Aggregation involves computing a summary statistic (or statistics) about each group, which can include functions like mean, median, min, max, sum, count, etc.\n",
    "\n",
    "### Creating a Sample DataFrame\n",
    "\n",
    "Let's start by creating a sample DataFrame that contains sales data for a fictional retail store. This data includes the `Product ID`, `Category`, `Quantity Sold`, and `Revenue`."
   ]
  },
  {
   "cell_type": "code",
   "execution_count": 1,
   "id": "cd1590ea",
   "metadata": {},
   "outputs": [],
   "source": [
    "import pandas as pd\n",
    "\n",
    "# Sample data\n",
    "data = {\n",
    "    'Product ID': [101, 102, 103, 104, 105, 106],\n",
    "    'Category': ['Electronics', 'Electronics', 'Furniture', 'Furniture', 'Office Supplies', 'Office Supplies'],\n",
    "    'Quantity Sold': [30, 45, 10, 5, 50, 60],\n",
    "    'Revenue': [3000, 4500, 2000, 1000, 2500, 3000]\n",
    "}\n",
    "\n",
    "df = pd.DataFrame(data)"
   ]
  },
  {
   "cell_type": "markdown",
   "id": "9e6dce00",
   "metadata": {},
   "source": [
    "### Viewing the DataFrame\n",
    "\n",
    "Before we perform any aggregation, it's good practice to understand the structure of the DataFrame."
   ]
  },
  {
   "cell_type": "code",
   "execution_count": 2,
   "id": "0b223919",
   "metadata": {},
   "outputs": [
    {
     "data": {
      "text/html": [
       "<div>\n",
       "<style scoped>\n",
       "    .dataframe tbody tr th:only-of-type {\n",
       "        vertical-align: middle;\n",
       "    }\n",
       "\n",
       "    .dataframe tbody tr th {\n",
       "        vertical-align: top;\n",
       "    }\n",
       "\n",
       "    .dataframe thead th {\n",
       "        text-align: right;\n",
       "    }\n",
       "</style>\n",
       "<table border=\"1\" class=\"dataframe\">\n",
       "  <thead>\n",
       "    <tr style=\"text-align: right;\">\n",
       "      <th></th>\n",
       "      <th>Product ID</th>\n",
       "      <th>Category</th>\n",
       "      <th>Quantity Sold</th>\n",
       "      <th>Revenue</th>\n",
       "    </tr>\n",
       "  </thead>\n",
       "  <tbody>\n",
       "    <tr>\n",
       "      <th>0</th>\n",
       "      <td>101</td>\n",
       "      <td>Electronics</td>\n",
       "      <td>30</td>\n",
       "      <td>3000</td>\n",
       "    </tr>\n",
       "    <tr>\n",
       "      <th>1</th>\n",
       "      <td>102</td>\n",
       "      <td>Electronics</td>\n",
       "      <td>45</td>\n",
       "      <td>4500</td>\n",
       "    </tr>\n",
       "    <tr>\n",
       "      <th>2</th>\n",
       "      <td>103</td>\n",
       "      <td>Furniture</td>\n",
       "      <td>10</td>\n",
       "      <td>2000</td>\n",
       "    </tr>\n",
       "    <tr>\n",
       "      <th>3</th>\n",
       "      <td>104</td>\n",
       "      <td>Furniture</td>\n",
       "      <td>5</td>\n",
       "      <td>1000</td>\n",
       "    </tr>\n",
       "    <tr>\n",
       "      <th>4</th>\n",
       "      <td>105</td>\n",
       "      <td>Office Supplies</td>\n",
       "      <td>50</td>\n",
       "      <td>2500</td>\n",
       "    </tr>\n",
       "    <tr>\n",
       "      <th>5</th>\n",
       "      <td>106</td>\n",
       "      <td>Office Supplies</td>\n",
       "      <td>60</td>\n",
       "      <td>3000</td>\n",
       "    </tr>\n",
       "  </tbody>\n",
       "</table>\n",
       "</div>"
      ],
      "text/plain": [
       "   Product ID         Category  Quantity Sold  Revenue\n",
       "0         101      Electronics             30     3000\n",
       "1         102      Electronics             45     4500\n",
       "2         103        Furniture             10     2000\n",
       "3         104        Furniture              5     1000\n",
       "4         105  Office Supplies             50     2500\n",
       "5         106  Office Supplies             60     3000"
      ]
     },
     "execution_count": 2,
     "metadata": {},
     "output_type": "execute_result"
    }
   ],
   "source": [
    "# View the DataFrame\n",
    "df"
   ]
  },
  {
   "cell_type": "markdown",
   "id": "0fcda621",
   "metadata": {},
   "source": [
    "### Calculating Summary Statistics\n",
    "\n",
    "The `describe()` method generates descriptive statistics that summarize the central tendency, dispersion, and shape of a dataset’s distribution."
   ]
  },
  {
   "cell_type": "code",
   "execution_count": 3,
   "id": "8edbcfd7",
   "metadata": {},
   "outputs": [
    {
     "data": {
      "text/html": [
       "<div>\n",
       "<style scoped>\n",
       "    .dataframe tbody tr th:only-of-type {\n",
       "        vertical-align: middle;\n",
       "    }\n",
       "\n",
       "    .dataframe tbody tr th {\n",
       "        vertical-align: top;\n",
       "    }\n",
       "\n",
       "    .dataframe thead th {\n",
       "        text-align: right;\n",
       "    }\n",
       "</style>\n",
       "<table border=\"1\" class=\"dataframe\">\n",
       "  <thead>\n",
       "    <tr style=\"text-align: right;\">\n",
       "      <th></th>\n",
       "      <th>Product ID</th>\n",
       "      <th>Quantity Sold</th>\n",
       "      <th>Revenue</th>\n",
       "    </tr>\n",
       "  </thead>\n",
       "  <tbody>\n",
       "    <tr>\n",
       "      <th>count</th>\n",
       "      <td>6.000000</td>\n",
       "      <td>6.000000</td>\n",
       "      <td>6.000000</td>\n",
       "    </tr>\n",
       "    <tr>\n",
       "      <th>mean</th>\n",
       "      <td>103.500000</td>\n",
       "      <td>33.333333</td>\n",
       "      <td>2666.666667</td>\n",
       "    </tr>\n",
       "    <tr>\n",
       "      <th>std</th>\n",
       "      <td>1.870829</td>\n",
       "      <td>22.286020</td>\n",
       "      <td>1169.045194</td>\n",
       "    </tr>\n",
       "    <tr>\n",
       "      <th>min</th>\n",
       "      <td>101.000000</td>\n",
       "      <td>5.000000</td>\n",
       "      <td>1000.000000</td>\n",
       "    </tr>\n",
       "    <tr>\n",
       "      <th>25%</th>\n",
       "      <td>102.250000</td>\n",
       "      <td>15.000000</td>\n",
       "      <td>2125.000000</td>\n",
       "    </tr>\n",
       "    <tr>\n",
       "      <th>50%</th>\n",
       "      <td>103.500000</td>\n",
       "      <td>37.500000</td>\n",
       "      <td>2750.000000</td>\n",
       "    </tr>\n",
       "    <tr>\n",
       "      <th>75%</th>\n",
       "      <td>104.750000</td>\n",
       "      <td>48.750000</td>\n",
       "      <td>3000.000000</td>\n",
       "    </tr>\n",
       "    <tr>\n",
       "      <th>max</th>\n",
       "      <td>106.000000</td>\n",
       "      <td>60.000000</td>\n",
       "      <td>4500.000000</td>\n",
       "    </tr>\n",
       "  </tbody>\n",
       "</table>\n",
       "</div>"
      ],
      "text/plain": [
       "       Product ID  Quantity Sold      Revenue\n",
       "count    6.000000       6.000000     6.000000\n",
       "mean   103.500000      33.333333  2666.666667\n",
       "std      1.870829      22.286020  1169.045194\n",
       "min    101.000000       5.000000  1000.000000\n",
       "25%    102.250000      15.000000  2125.000000\n",
       "50%    103.500000      37.500000  2750.000000\n",
       "75%    104.750000      48.750000  3000.000000\n",
       "max    106.000000      60.000000  4500.000000"
      ]
     },
     "execution_count": 3,
     "metadata": {},
     "output_type": "execute_result"
    }
   ],
   "source": [
    "# Get summary statistics\n",
    "df.describe()"
   ]
  },
  {
   "cell_type": "markdown",
   "id": "2161b32e",
   "metadata": {},
   "source": [
    "### Transposing the Summary Statistics\n",
    "\n",
    "Transposing the summary statistics can make them easier to read, especially when dealing with many columns."
   ]
  },
  {
   "cell_type": "code",
   "execution_count": 4,
   "id": "18f64d55",
   "metadata": {},
   "outputs": [
    {
     "data": {
      "text/html": [
       "<div>\n",
       "<style scoped>\n",
       "    .dataframe tbody tr th:only-of-type {\n",
       "        vertical-align: middle;\n",
       "    }\n",
       "\n",
       "    .dataframe tbody tr th {\n",
       "        vertical-align: top;\n",
       "    }\n",
       "\n",
       "    .dataframe thead th {\n",
       "        text-align: right;\n",
       "    }\n",
       "</style>\n",
       "<table border=\"1\" class=\"dataframe\">\n",
       "  <thead>\n",
       "    <tr style=\"text-align: right;\">\n",
       "      <th></th>\n",
       "      <th>count</th>\n",
       "      <th>mean</th>\n",
       "      <th>std</th>\n",
       "      <th>min</th>\n",
       "      <th>25%</th>\n",
       "      <th>50%</th>\n",
       "      <th>75%</th>\n",
       "      <th>max</th>\n",
       "    </tr>\n",
       "  </thead>\n",
       "  <tbody>\n",
       "    <tr>\n",
       "      <th>Product ID</th>\n",
       "      <td>6.0</td>\n",
       "      <td>103.500000</td>\n",
       "      <td>1.870829</td>\n",
       "      <td>101.0</td>\n",
       "      <td>102.25</td>\n",
       "      <td>103.5</td>\n",
       "      <td>104.75</td>\n",
       "      <td>106.0</td>\n",
       "    </tr>\n",
       "    <tr>\n",
       "      <th>Quantity Sold</th>\n",
       "      <td>6.0</td>\n",
       "      <td>33.333333</td>\n",
       "      <td>22.286020</td>\n",
       "      <td>5.0</td>\n",
       "      <td>15.00</td>\n",
       "      <td>37.5</td>\n",
       "      <td>48.75</td>\n",
       "      <td>60.0</td>\n",
       "    </tr>\n",
       "    <tr>\n",
       "      <th>Revenue</th>\n",
       "      <td>6.0</td>\n",
       "      <td>2666.666667</td>\n",
       "      <td>1169.045194</td>\n",
       "      <td>1000.0</td>\n",
       "      <td>2125.00</td>\n",
       "      <td>2750.0</td>\n",
       "      <td>3000.00</td>\n",
       "      <td>4500.0</td>\n",
       "    </tr>\n",
       "  </tbody>\n",
       "</table>\n",
       "</div>"
      ],
      "text/plain": [
       "               count         mean          std     min      25%     50%  \\\n",
       "Product ID       6.0   103.500000     1.870829   101.0   102.25   103.5   \n",
       "Quantity Sold    6.0    33.333333    22.286020     5.0    15.00    37.5   \n",
       "Revenue          6.0  2666.666667  1169.045194  1000.0  2125.00  2750.0   \n",
       "\n",
       "                   75%     max  \n",
       "Product ID      104.75   106.0  \n",
       "Quantity Sold    48.75    60.0  \n",
       "Revenue        3000.00  4500.0  "
      ]
     },
     "execution_count": 4,
     "metadata": {},
     "output_type": "execute_result"
    }
   ],
   "source": [
    "# Transpose the summary statistics\n",
    "df.describe().transpose()"
   ]
  },
  {
   "cell_type": "markdown",
   "id": "7783fce3",
   "metadata": {},
   "source": [
    "### Calculating Specific Aggregations\n",
    "\n",
    "You can calculate specific aggregation metrics on individual columns.\n",
    "\n",
    "#### Mean\n",
    "\n",
    "Calculates the average value."
   ]
  },
  {
   "cell_type": "code",
   "execution_count": 5,
   "id": "a640c1dd",
   "metadata": {},
   "outputs": [
    {
     "data": {
      "text/plain": [
       "np.float64(33.333333333333336)"
      ]
     },
     "execution_count": 5,
     "metadata": {},
     "output_type": "execute_result"
    }
   ],
   "source": [
    "# Mean of Quantity Sold\n",
    "df['Quantity Sold'].mean()"
   ]
  },
  {
   "cell_type": "markdown",
   "id": "82e4bd8a",
   "metadata": {},
   "source": [
    "#### Median\n",
    "\n",
    "Finds the middle value when the data is sorted."
   ]
  },
  {
   "cell_type": "code",
   "execution_count": 6,
   "id": "2ba1ff3a",
   "metadata": {},
   "outputs": [
    {
     "data": {
      "text/plain": [
       "np.float64(2750.0)"
      ]
     },
     "execution_count": 6,
     "metadata": {},
     "output_type": "execute_result"
    }
   ],
   "source": [
    "# Median of Revenue\n",
    "df['Revenue'].median()"
   ]
  },
  {
   "cell_type": "markdown",
   "id": "a2472f7f",
   "metadata": {},
   "source": [
    "#### Mode\n",
    "\n",
    "Identifies the most frequently occurring value(s)."
   ]
  },
  {
   "cell_type": "code",
   "execution_count": 7,
   "id": "cac98ea7",
   "metadata": {},
   "outputs": [
    {
     "data": {
      "text/plain": [
       "0     5\n",
       "1    10\n",
       "2    30\n",
       "3    45\n",
       "4    50\n",
       "5    60\n",
       "Name: Quantity Sold, dtype: int64"
      ]
     },
     "execution_count": 7,
     "metadata": {},
     "output_type": "execute_result"
    }
   ],
   "source": [
    "# Mode of Quantity Sold\n",
    "df['Quantity Sold'].mode()"
   ]
  },
  {
   "cell_type": "markdown",
   "id": "7f26cd72",
   "metadata": {},
   "source": [
    "#### Standard Deviation\n",
    "\n",
    "Measures the amount of variation or dispersion of a set of values."
   ]
  },
  {
   "cell_type": "code",
   "execution_count": 8,
   "id": "f83ee5c7",
   "metadata": {},
   "outputs": [
    {
     "data": {
      "text/plain": [
       "np.float64(1169.045194450012)"
      ]
     },
     "execution_count": 8,
     "metadata": {},
     "output_type": "execute_result"
    }
   ],
   "source": [
    "# Standard deviation of Revenue\n",
    "df['Revenue'].std()"
   ]
  },
  {
   "cell_type": "markdown",
   "id": "16f37eab",
   "metadata": {},
   "source": [
    "#### Variance\n",
    "\n",
    "Calculates how far the numbers are spread out from their average value."
   ]
  },
  {
   "cell_type": "code",
   "execution_count": 9,
   "id": "c092c7b6",
   "metadata": {},
   "outputs": [
    {
     "data": {
      "text/plain": [
       "np.float64(496.6666666666667)"
      ]
     },
     "execution_count": 9,
     "metadata": {},
     "output_type": "execute_result"
    }
   ],
   "source": [
    "# Variance of Quantity Sold\n",
    "df['Quantity Sold'].var()"
   ]
  },
  {
   "cell_type": "markdown",
   "id": "1af15214",
   "metadata": {},
   "source": [
    "#### Sum\n",
    "\n",
    "Adds up all the values in a column."
   ]
  },
  {
   "cell_type": "code",
   "execution_count": 10,
   "id": "b0329869",
   "metadata": {},
   "outputs": [
    {
     "data": {
      "text/plain": [
       "np.int64(200)"
      ]
     },
     "execution_count": 10,
     "metadata": {},
     "output_type": "execute_result"
    }
   ],
   "source": [
    "# Total Quantity Sold\n",
    "df['Quantity Sold'].sum()"
   ]
  },
  {
   "cell_type": "markdown",
   "id": "a82f4121",
   "metadata": {},
   "source": [
    "#### Product\n",
    "\n",
    "Calculates the product of all the values in a column."
   ]
  },
  {
   "cell_type": "code",
   "execution_count": 11,
   "id": "7c431996",
   "metadata": {},
   "outputs": [
    {
     "data": {
      "text/plain": [
       "np.int64(-414184810805067776)"
      ]
     },
     "execution_count": 11,
     "metadata": {},
     "output_type": "execute_result"
    }
   ],
   "source": [
    "# Product of Revenue\n",
    "df['Revenue'].prod()"
   ]
  },
  {
   "cell_type": "markdown",
   "id": "85c5d826",
   "metadata": {},
   "source": [
    "## Groupby Methods\n",
    "\n",
    "Groupby involves splitting the data into groups based on some criteria, applying a function to each group independently, and then combining the results back together.\n",
    "\n",
    "### Grouping Data\n",
    "\n",
    "Suppose we want to analyze the sales data by category."
   ]
  },
  {
   "cell_type": "code",
   "execution_count": 12,
   "id": "502b39e1",
   "metadata": {},
   "outputs": [],
   "source": [
    "# Group the data by Category\n",
    "grouped = df.groupby('Category')"
   ]
  },
  {
   "cell_type": "markdown",
   "id": "a19b1b0c",
   "metadata": {},
   "source": [
    "### Calculating Aggregations on Groups\n",
    "\n",
    "#### Mean by Group\n",
    "\n",
    "Calculates the average for each group."
   ]
  },
  {
   "cell_type": "code",
   "execution_count": 13,
   "id": "ac5d6acf",
   "metadata": {},
   "outputs": [
    {
     "data": {
      "text/plain": [
       "Category\n",
       "Electronics        37.5\n",
       "Furniture           7.5\n",
       "Office Supplies    55.0\n",
       "Name: Quantity Sold, dtype: float64"
      ]
     },
     "execution_count": 13,
     "metadata": {},
     "output_type": "execute_result"
    }
   ],
   "source": [
    "# Mean Quantity Sold by Category\n",
    "grouped['Quantity Sold'].mean()"
   ]
  },
  {
   "cell_type": "markdown",
   "id": "888fbc2b",
   "metadata": {},
   "source": [
    "#### Sum by Group\n",
    "\n",
    "Calculates the total for each group."
   ]
  },
  {
   "cell_type": "code",
   "execution_count": 14,
   "id": "5b036ccc",
   "metadata": {},
   "outputs": [
    {
     "data": {
      "text/plain": [
       "Category\n",
       "Electronics        7500\n",
       "Furniture          3000\n",
       "Office Supplies    5500\n",
       "Name: Revenue, dtype: int64"
      ]
     },
     "execution_count": 14,
     "metadata": {},
     "output_type": "execute_result"
    }
   ],
   "source": [
    "# Total Revenue by Category\n",
    "grouped['Revenue'].sum()"
   ]
  },
  {
   "cell_type": "markdown",
   "id": "ee539da4",
   "metadata": {},
   "source": [
    "#### Min and Max by Group\n",
    "\n",
    "Finds the minimum and maximum values within each group."
   ]
  },
  {
   "cell_type": "code",
   "execution_count": 15,
   "id": "f75e44c5",
   "metadata": {},
   "outputs": [
    {
     "data": {
      "text/html": [
       "<div>\n",
       "<style scoped>\n",
       "    .dataframe tbody tr th:only-of-type {\n",
       "        vertical-align: middle;\n",
       "    }\n",
       "\n",
       "    .dataframe tbody tr th {\n",
       "        vertical-align: top;\n",
       "    }\n",
       "\n",
       "    .dataframe thead th {\n",
       "        text-align: right;\n",
       "    }\n",
       "</style>\n",
       "<table border=\"1\" class=\"dataframe\">\n",
       "  <thead>\n",
       "    <tr style=\"text-align: right;\">\n",
       "      <th></th>\n",
       "      <th>min</th>\n",
       "      <th>max</th>\n",
       "    </tr>\n",
       "    <tr>\n",
       "      <th>Category</th>\n",
       "      <th></th>\n",
       "      <th></th>\n",
       "    </tr>\n",
       "  </thead>\n",
       "  <tbody>\n",
       "    <tr>\n",
       "      <th>Electronics</th>\n",
       "      <td>30</td>\n",
       "      <td>45</td>\n",
       "    </tr>\n",
       "    <tr>\n",
       "      <th>Furniture</th>\n",
       "      <td>5</td>\n",
       "      <td>10</td>\n",
       "    </tr>\n",
       "    <tr>\n",
       "      <th>Office Supplies</th>\n",
       "      <td>50</td>\n",
       "      <td>60</td>\n",
       "    </tr>\n",
       "  </tbody>\n",
       "</table>\n",
       "</div>"
      ],
      "text/plain": [
       "                 min  max\n",
       "Category                 \n",
       "Electronics       30   45\n",
       "Furniture          5   10\n",
       "Office Supplies   50   60"
      ]
     },
     "execution_count": 15,
     "metadata": {},
     "output_type": "execute_result"
    }
   ],
   "source": [
    "# Minimum and Maximum Quantity Sold by Category\n",
    "grouped['Quantity Sold'].agg(['min', 'max'])"
   ]
  },
  {
   "cell_type": "markdown",
   "id": "79baf917",
   "metadata": {},
   "source": [
    "### Grouping by Multiple Columns\n",
    "\n",
    "You can also group the data by multiple columns."
   ]
  },
  {
   "cell_type": "code",
   "execution_count": 16,
   "id": "2800f180",
   "metadata": {},
   "outputs": [],
   "source": [
    "# Group by Category and Product ID\n",
    "grouped_multi = df.groupby(['Category', 'Product ID'])"
   ]
  },
  {
   "cell_type": "markdown",
   "id": "94b35600",
   "metadata": {},
   "source": [
    "#### Aggregations on Multiple Groups"
   ]
  },
  {
   "cell_type": "code",
   "execution_count": 17,
   "id": "4068808c",
   "metadata": {},
   "outputs": [
    {
     "data": {
      "text/plain": [
       "Category         Product ID\n",
       "Electronics      101           30\n",
       "                 102           45\n",
       "Furniture        103           10\n",
       "                 104            5\n",
       "Office Supplies  105           50\n",
       "                 106           60\n",
       "Name: Quantity Sold, dtype: int64"
      ]
     },
     "execution_count": 17,
     "metadata": {},
     "output_type": "execute_result"
    }
   ],
   "source": [
    "# Sum of Quantity Sold for each Product in each Category\n",
    "grouped_multi['Quantity Sold'].sum()"
   ]
  },
  {
   "cell_type": "markdown",
   "id": "018ca20f",
   "metadata": {},
   "source": [
    "### Using the `aggregate()` Function\n",
    "\n",
    "The `aggregate()` function allows you to perform multiple aggregations on one or more columns."
   ]
  },
  {
   "cell_type": "code",
   "execution_count": 18,
   "id": "e4f2071d",
   "metadata": {},
   "outputs": [
    {
     "data": {
      "text/html": [
       "<div>\n",
       "<style scoped>\n",
       "    .dataframe tbody tr th:only-of-type {\n",
       "        vertical-align: middle;\n",
       "    }\n",
       "\n",
       "    .dataframe tbody tr th {\n",
       "        vertical-align: top;\n",
       "    }\n",
       "\n",
       "    .dataframe thead tr th {\n",
       "        text-align: left;\n",
       "    }\n",
       "\n",
       "    .dataframe thead tr:last-of-type th {\n",
       "        text-align: right;\n",
       "    }\n",
       "</style>\n",
       "<table border=\"1\" class=\"dataframe\">\n",
       "  <thead>\n",
       "    <tr>\n",
       "      <th></th>\n",
       "      <th colspan=\"3\" halign=\"left\">Quantity Sold</th>\n",
       "      <th colspan=\"2\" halign=\"left\">Revenue</th>\n",
       "    </tr>\n",
       "    <tr>\n",
       "      <th></th>\n",
       "      <th>min</th>\n",
       "      <th>max</th>\n",
       "      <th>mean</th>\n",
       "      <th>sum</th>\n",
       "      <th>mean</th>\n",
       "    </tr>\n",
       "    <tr>\n",
       "      <th>Category</th>\n",
       "      <th></th>\n",
       "      <th></th>\n",
       "      <th></th>\n",
       "      <th></th>\n",
       "      <th></th>\n",
       "    </tr>\n",
       "  </thead>\n",
       "  <tbody>\n",
       "    <tr>\n",
       "      <th>Electronics</th>\n",
       "      <td>30</td>\n",
       "      <td>45</td>\n",
       "      <td>37.5</td>\n",
       "      <td>7500</td>\n",
       "      <td>3750.0</td>\n",
       "    </tr>\n",
       "    <tr>\n",
       "      <th>Furniture</th>\n",
       "      <td>5</td>\n",
       "      <td>10</td>\n",
       "      <td>7.5</td>\n",
       "      <td>3000</td>\n",
       "      <td>1500.0</td>\n",
       "    </tr>\n",
       "    <tr>\n",
       "      <th>Office Supplies</th>\n",
       "      <td>50</td>\n",
       "      <td>60</td>\n",
       "      <td>55.0</td>\n",
       "      <td>5500</td>\n",
       "      <td>2750.0</td>\n",
       "    </tr>\n",
       "  </tbody>\n",
       "</table>\n",
       "</div>"
      ],
      "text/plain": [
       "                Quantity Sold           Revenue        \n",
       "                          min max  mean     sum    mean\n",
       "Category                                               \n",
       "Electronics                30  45  37.5    7500  3750.0\n",
       "Furniture                   5  10   7.5    3000  1500.0\n",
       "Office Supplies            50  60  55.0    5500  2750.0"
      ]
     },
     "execution_count": 18,
     "metadata": {},
     "output_type": "execute_result"
    }
   ],
   "source": [
    "# Multiple aggregations on Quantity Sold and Revenue\n",
    "grouped.agg({\n",
    "    'Quantity Sold': ['min', 'max', 'mean'],\n",
    "    'Revenue': ['sum', 'mean']\n",
    "})"
   ]
  },
  {
   "cell_type": "markdown",
   "id": "3f03f6e1",
   "metadata": {},
   "source": [
    "## Applying Custom Functions\n",
    "\n",
    "You can apply custom functions to your groups using the `apply()` method."
   ]
  },
  {
   "cell_type": "code",
   "execution_count": 19,
   "id": "0086c389",
   "metadata": {},
   "outputs": [
    {
     "data": {
      "text/plain": [
       "Category\n",
       "Electronics        15\n",
       "Furniture           5\n",
       "Office Supplies    10\n",
       "Name: Quantity Sold, dtype: int64"
      ]
     },
     "execution_count": 19,
     "metadata": {},
     "output_type": "execute_result"
    }
   ],
   "source": [
    "# Define a custom function to calculate the range\n",
    "def data_range(x):\n",
    "    return x.max() - x.min()\n",
    "\n",
    "# Apply the custom function to Quantity Sold\n",
    "grouped['Quantity Sold'].apply(data_range)"
   ]
  }
 ],
 "metadata": {
  "jupytext": {
   "cell_metadata_filter": "-all",
   "main_language": "python",
   "notebook_metadata_filter": "-all"
  },
  "kernelspec": {
   "display_name": "py310",
   "language": "python",
   "name": "python3"
  },
  "language_info": {
   "codemirror_mode": {
    "name": "ipython",
    "version": 3
   },
   "file_extension": ".py",
   "mimetype": "text/x-python",
   "name": "python",
   "nbconvert_exporter": "python",
   "pygments_lexer": "ipython3",
   "version": "3.10.14"
  }
 },
 "nbformat": 4,
 "nbformat_minor": 5
}
