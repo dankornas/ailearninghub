{
 "cells": [
  {
   "cell_type": "markdown",
   "id": "eeddfd2b",
   "metadata": {},
   "source": [
    "<iframe\n",
    "  style=\"width: 100%; aspect-ratio: 16 / 9;\"\n",
    "  src=\"https://www.youtube.com/embed/zb4xMLcpBVs\"\n",
    "  title=\"YouTube video player\"\n",
    "  frameborder=\"0\"\n",
    "  allow=\"accelerometer; autoplay; clipboard-write; encrypted-media; gyroscope; picture-in-picture; web-share\"\n",
    "  allowfullscreen>\n",
    "</iframe>"
   ]
  },
  {
   "cell_type": "markdown",
   "id": "75a00b0b",
   "metadata": {},
   "source": [
    "# Dealing with Missing Data in Pandas\n",
    "\n",
    "Real-world datasets often contain missing values, which can complicate data analysis. Pandas provides robust methods to handle missing data efficiently. In this tutorial, we'll explore how to identify, remove, and fill missing values in a Pandas DataFrame.\n",
    "\n",
    "## Creating a DataFrame with Missing Data\n",
    "\n",
    "Let's start by creating a DataFrame that contains missing values. We'll use `np.nan` to represent missing entries."
   ]
  },
  {
   "cell_type": "code",
   "execution_count": 1,
   "id": "77171e6d",
   "metadata": {},
   "outputs": [],
   "source": [
    "import pandas as pd\n",
    "import numpy as np\n",
    "\n",
    "# Creating a DataFrame with missing values\n",
    "data = {\n",
    "    'Name': ['Alice', 'Bob', 'Charlie', np.nan, 'Emily'],\n",
    "    'Age': [24, np.nan, 22, 25, np.nan],\n",
    "    'Score': [85, 90, np.nan, 88, 95]\n",
    "}\n",
    "\n",
    "df = pd.DataFrame(data)"
   ]
  },
  {
   "cell_type": "markdown",
   "id": "b5d39585",
   "metadata": {},
   "source": [
    "In this DataFrame, some entries in the 'Name', 'Age', and 'Score' columns are missing.\n",
    "\n",
    "## Identifying Missing Data\n",
    "\n",
    "Before we can handle missing data, we need to identify where it exists in our DataFrame.\n",
    "\n",
    "### Using `isnull()`\n",
    "\n",
    "The `isnull()` function returns a DataFrame of boolean values indicating whether each value is missing."
   ]
  },
  {
   "cell_type": "code",
   "execution_count": 13,
   "id": "91578402",
   "metadata": {},
   "outputs": [
    {
     "data": {
      "text/html": [
       "<div>\n",
       "<style scoped>\n",
       "    .dataframe tbody tr th:only-of-type {\n",
       "        vertical-align: middle;\n",
       "    }\n",
       "\n",
       "    .dataframe tbody tr th {\n",
       "        vertical-align: top;\n",
       "    }\n",
       "\n",
       "    .dataframe thead th {\n",
       "        text-align: right;\n",
       "    }\n",
       "</style>\n",
       "<table border=\"1\" class=\"dataframe\">\n",
       "  <thead>\n",
       "    <tr style=\"text-align: right;\">\n",
       "      <th></th>\n",
       "      <th>Name</th>\n",
       "      <th>Age</th>\n",
       "      <th>Score</th>\n",
       "    </tr>\n",
       "  </thead>\n",
       "  <tbody>\n",
       "    <tr>\n",
       "      <th>0</th>\n",
       "      <td>False</td>\n",
       "      <td>False</td>\n",
       "      <td>False</td>\n",
       "    </tr>\n",
       "    <tr>\n",
       "      <th>1</th>\n",
       "      <td>False</td>\n",
       "      <td>False</td>\n",
       "      <td>False</td>\n",
       "    </tr>\n",
       "    <tr>\n",
       "      <th>2</th>\n",
       "      <td>False</td>\n",
       "      <td>False</td>\n",
       "      <td>False</td>\n",
       "    </tr>\n",
       "    <tr>\n",
       "      <th>3</th>\n",
       "      <td>True</td>\n",
       "      <td>False</td>\n",
       "      <td>False</td>\n",
       "    </tr>\n",
       "    <tr>\n",
       "      <th>4</th>\n",
       "      <td>False</td>\n",
       "      <td>False</td>\n",
       "      <td>False</td>\n",
       "    </tr>\n",
       "  </tbody>\n",
       "</table>\n",
       "</div>"
      ],
      "text/plain": [
       "    Name    Age  Score\n",
       "0  False  False  False\n",
       "1  False  False  False\n",
       "2  False  False  False\n",
       "3   True  False  False\n",
       "4  False  False  False"
      ]
     },
     "execution_count": 13,
     "metadata": {},
     "output_type": "execute_result"
    }
   ],
   "source": [
    "# Identifying missing values\n",
    "missing_values = df.isnull()\n",
    "missing_values"
   ]
  },
  {
   "cell_type": "markdown",
   "id": "fe982a79",
   "metadata": {},
   "source": [
    "### Using `notnull()`\n",
    "\n",
    "Similarly, the `notnull()` function returns `True` for non-missing values."
   ]
  },
  {
   "cell_type": "code",
   "execution_count": 3,
   "id": "d77962d4",
   "metadata": {},
   "outputs": [],
   "source": [
    "# Identifying non-missing values\n",
    "non_missing_values = df.notnull()"
   ]
  },
  {
   "cell_type": "markdown",
   "id": "87f7cd85",
   "metadata": {},
   "source": [
    "## Counting Missing Values\n",
    "\n",
    "We can calculate the total number of missing values in each column using the `sum()` function along with `isnull()`."
   ]
  },
  {
   "cell_type": "code",
   "execution_count": 4,
   "id": "b2957272",
   "metadata": {},
   "outputs": [],
   "source": [
    "# Counting missing values in each column\n",
    "missing_counts = df.isnull().sum()"
   ]
  },
  {
   "cell_type": "markdown",
   "id": "0189dd9d",
   "metadata": {},
   "source": [
    "## Removing Missing Values\n",
    "\n",
    "Sometimes, the simplest way to handle missing data is to remove it entirely.\n",
    "\n",
    "### Dropping Rows with Missing Data\n",
    "\n",
    "To drop all rows that contain any missing values, use the `dropna()` function."
   ]
  },
  {
   "cell_type": "code",
   "execution_count": 5,
   "id": "633b7dea",
   "metadata": {},
   "outputs": [],
   "source": [
    "# Dropping rows with any missing values\n",
    "df_dropped_rows = df.dropna()"
   ]
  },
  {
   "cell_type": "markdown",
   "id": "872d21d5",
   "metadata": {},
   "source": [
    "### Dropping Columns with Missing Data\n",
    "\n",
    "If you prefer to drop columns that contain missing values, set the `axis` parameter to 1."
   ]
  },
  {
   "cell_type": "code",
   "execution_count": 6,
   "id": "898d21af",
   "metadata": {},
   "outputs": [],
   "source": [
    "# Dropping columns with any missing values\n",
    "df_dropped_columns = df.dropna(axis=1)"
   ]
  },
  {
   "cell_type": "markdown",
   "id": "86782b9d",
   "metadata": {},
   "source": [
    "## Filling Missing Values\n",
    "\n",
    "Often, we don't want to lose data by dropping rows or columns. Instead, we can fill missing values with appropriate substitutes.\n",
    "\n",
    "### Using `fillna()`\n",
    "\n",
    "The `fillna()` function allows us to replace missing values with a specified value."
   ]
  },
  {
   "cell_type": "code",
   "execution_count": 7,
   "id": "b2d2314c",
   "metadata": {},
   "outputs": [],
   "source": [
    "# Filling missing values with a specific value\n",
    "df_filled = df.fillna('Unknown')"
   ]
  },
  {
   "cell_type": "markdown",
   "id": "68218b74",
   "metadata": {},
   "source": [
    "### Forward Fill (`ffill`)\n",
    "\n",
    "Forward fill replaces missing values with the last known value along a specified axis."
   ]
  },
  {
   "cell_type": "code",
   "execution_count": 8,
   "id": "206ed1cb",
   "metadata": {},
   "outputs": [
    {
     "name": "stderr",
     "output_type": "stream",
     "text": [
      "/var/folders/_0/tn3nfnd50992l7rbgrxxlkn40000gn/T/ipykernel_9849/3933367682.py:2: FutureWarning: DataFrame.fillna with 'method' is deprecated and will raise in a future version. Use obj.ffill() or obj.bfill() instead.\n",
      "  df_ffill = df.fillna(method='ffill')\n"
     ]
    }
   ],
   "source": [
    "# Forward filling missing values\n",
    "df_ffill = df.fillna(method='ffill')"
   ]
  },
  {
   "cell_type": "markdown",
   "id": "aaff6aac",
   "metadata": {},
   "source": [
    "### Backward Fill (`bfill`)\n",
    "\n",
    "Backward fill uses the next valid observation to fill missing values."
   ]
  },
  {
   "cell_type": "code",
   "execution_count": 9,
   "id": "9beb043e",
   "metadata": {},
   "outputs": [
    {
     "name": "stderr",
     "output_type": "stream",
     "text": [
      "/var/folders/_0/tn3nfnd50992l7rbgrxxlkn40000gn/T/ipykernel_9849/453645776.py:2: FutureWarning: DataFrame.fillna with 'method' is deprecated and will raise in a future version. Use obj.ffill() or obj.bfill() instead.\n",
      "  df_bfill = df.fillna(method='bfill')\n"
     ]
    }
   ],
   "source": [
    "# Backward filling missing values\n",
    "df_bfill = df.fillna(method='bfill')"
   ]
  },
  {
   "cell_type": "markdown",
   "id": "9245f209",
   "metadata": {},
   "source": [
    "### Filling with Mean, Median, or Mode\n",
    "\n",
    "For numerical columns, it's common to fill missing values with the mean, median, or mode."
   ]
  },
  {
   "cell_type": "code",
   "execution_count": 10,
   "id": "ebdabb4d",
   "metadata": {},
   "outputs": [],
   "source": [
    "# Filling missing values in 'Age' with the mean age\n",
    "mean_age = df['Age'].mean()\n",
    "df['Age'] = df['Age'].fillna(mean_age)\n",
    "\n",
    "# Filling missing values in 'Score' with the median score\n",
    "median_score = df['Score'].median()\n",
    "df['Score'] = df['Score'].fillna(median_score)"
   ]
  },
  {
   "cell_type": "markdown",
   "id": "343f9e64",
   "metadata": {},
   "source": [
    "### Filling with a Dictionary\n",
    "\n",
    "You can specify different fill values for different columns using a dictionary."
   ]
  },
  {
   "cell_type": "code",
   "execution_count": 12,
   "id": "f9b005a6",
   "metadata": {},
   "outputs": [],
   "source": [
    "# Filling missing values with different values for each column\n",
    "fill_values = {'Name': 'No Name', 'Age': df['Age'].mean(), 'Score': df['Score'].median()}\n",
    "df_filled_dict = df.fillna(fill_values)"
   ]
  }
 ],
 "metadata": {
  "jupytext": {
   "cell_metadata_filter": "-all",
   "main_language": "python",
   "notebook_metadata_filter": "-all"
  },
  "kernelspec": {
   "display_name": "py310",
   "language": "python",
   "name": "python3"
  },
  "language_info": {
   "codemirror_mode": {
    "name": "ipython",
    "version": 3
   },
   "file_extension": ".py",
   "mimetype": "text/x-python",
   "name": "python",
   "nbconvert_exporter": "python",
   "pygments_lexer": "ipython3",
   "version": "3.10.14"
  }
 },
 "nbformat": 4,
 "nbformat_minor": 5
}
