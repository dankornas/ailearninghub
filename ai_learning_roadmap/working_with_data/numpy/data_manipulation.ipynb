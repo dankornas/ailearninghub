{
 "cells": [
  {
   "cell_type": "markdown",
   "id": "772ab11a",
   "metadata": {},
   "source": [
    "# NumPy Data Manipulation Tutorial\n",
    "\n",
    "NumPy offers a variety of functions for manipulating arrays, allowing you to reshape, join, split, and modify data efficiently. Mastering these data manipulation techniques is essential for data analysis, machine learning, and scientific computing.\n",
    "\n",
    "<a name=\"importing-numpy\"></a>\n",
    "\n",
    "## 2. Importing NumPy\n",
    "\n",
    "Before you start working with NumPy, you need to import the library. It's standard practice to import NumPy using the alias `np`."
   ]
  },
  {
   "cell_type": "code",
   "execution_count": 1,
   "id": "d3d52c22",
   "metadata": {},
   "outputs": [],
   "source": [
    "import numpy as np"
   ]
  },
  {
   "cell_type": "markdown",
   "id": "4379ea6f",
   "metadata": {},
   "source": [
    "This allows you to access NumPy functions using the `np` prefix, such as `np.array()`.\n"
   ]
  },
  {
   "cell_type": "markdown",
   "id": "77728895",
   "metadata": {},
   "source": [
    "<a name=\"array-shape-reshaping\"></a>\n",
    "\n",
    "## 3. Array Shape and Reshaping\n",
    "\n",
    "<a name=\"understanding-array-shapes\"></a>\n",
    "\n",
    "### 3.1 Understanding Array Shapes\n",
    "\n",
    "The shape of an array is a tuple that gives you the size of the array in each dimension."
   ]
  },
  {
   "cell_type": "code",
   "execution_count": 2,
   "id": "465a4690",
   "metadata": {},
   "outputs": [],
   "source": [
    "# Creating a 2D array\n",
    "array_2d = np.array([[1, 2, 3], [4, 5, 6]])\n",
    "\n",
    "# Getting the shape of the array\n",
    "array_shape = array_2d.shape"
   ]
  },
  {
   "cell_type": "markdown",
   "id": "e37ed1cb",
   "metadata": {},
   "source": [
    "In this example, `array_shape` will be `(2, 3)`, indicating that the array has 2 rows and 3 columns.\n",
    "\n",
    "<a name=\"reshaping-arrays\"></a>\n",
    "\n",
    "### 3.2 Reshaping Arrays (`reshape`)\n",
    "\n",
    "The `reshape` function allows you to change the shape of an array without changing its data."
   ]
  },
  {
   "cell_type": "code",
   "execution_count": 3,
   "id": "4d38721f",
   "metadata": {},
   "outputs": [
    {
     "data": {
      "text/plain": [
       "array([[0, 1, 2],\n",
       "       [3, 4, 5]])"
      ]
     },
     "execution_count": 3,
     "metadata": {},
     "output_type": "execute_result"
    }
   ],
   "source": [
    "# Creating a 1D array with 6 elements\n",
    "array_1d = np.arange(6)\n",
    "\n",
    "# Reshaping the array to 2 rows and 3 columns\n",
    "array_reshaped = array_1d.reshape(2, 3)\n",
    "array_reshaped"
   ]
  },
  {
   "cell_type": "markdown",
   "id": "d4aedca8",
   "metadata": {},
   "source": [
    "Here, `array_reshaped` will be a 2x3 array. The total number of elements must remain the same when reshaping.\n",
    "\n",
    "<a name=\"flattening-arrays\"></a>\n",
    "\n",
    "### 3.3 Flattening Arrays (`flatten` and `ravel`)\n",
    "\n",
    "Flattening an array converts it into a 1D array.\n",
    "\n",
    "* **`flatten`** returns a copy of the array collapsed into one dimension.\n",
    "* **`ravel`** returns a view (if possible) of the array collapsed into one dimension."
   ]
  },
  {
   "cell_type": "code",
   "execution_count": 27,
   "id": "9353b64f",
   "metadata": {},
   "outputs": [
    {
     "data": {
      "text/plain": [
       "array([0, 1, 2, 3, 4, 5])"
      ]
     },
     "execution_count": 27,
     "metadata": {},
     "output_type": "execute_result"
    }
   ],
   "source": [
    "# Flattening the array using flatten()\n",
    "flattened_array = array_reshaped.flatten()\n",
    "\n",
    "# Flattening the array using ravel()\n",
    "raveled_array = array_reshaped.ravel()\n",
    "flattened_array"
   ]
  },
  {
   "cell_type": "markdown",
   "id": "b8ee1ab4",
   "metadata": {},
   "source": [
    "Use `flatten` when you need a copy of the array, and `ravel` when you need a view (which is more memory-efficient).\n",
    "\n",
    "<a name=\"transposing-arrays\"></a>\n",
    "\n",
    "### 3.4 Transposing Arrays (`transpose` and `T`)\n",
    "\n",
    "Transposing an array swaps its dimensions."
   ]
  },
  {
   "cell_type": "code",
   "execution_count": 5,
   "id": "552a97a3",
   "metadata": {},
   "outputs": [],
   "source": [
    "# Transposing the array using transpose()\n",
    "transposed_array = array_reshaped.transpose()\n",
    "\n",
    "# Transposing the array using the T attribute\n",
    "transposed_array_T = array_reshaped.T"
   ]
  },
  {
   "cell_type": "markdown",
   "id": "ced971a6",
   "metadata": {},
   "source": [
    "Both methods will swap the rows and columns of the array.\n"
   ]
  },
  {
   "cell_type": "markdown",
   "id": "19839b47",
   "metadata": {},
   "source": [
    "<a name=\"joining-arrays\"></a>\n",
    "\n",
    "## 4. Joining Arrays\n",
    "\n",
    "Joining or combining arrays allows you to merge multiple arrays into one.\n",
    "\n",
    "<a name=\"concatenation\"></a>\n",
    "\n",
    "### 4.1 Concatenation (`concatenate`)\n",
    "\n",
    "The `concatenate` function joins a sequence of arrays along an existing axis."
   ]
  },
  {
   "cell_type": "code",
   "execution_count": 28,
   "id": "45252450",
   "metadata": {},
   "outputs": [],
   "source": [
    "# Creating two arrays\n",
    "array_a = np.array([[1, 2], [3, 4]])\n",
    "array_b = np.array([[5, 6]])\n",
    "\n",
    "# Concatenating along axis 0 (rows)\n",
    "concatenated_array = np.concatenate((array_a, array_b), axis=0)"
   ]
  },
  {
   "cell_type": "markdown",
   "id": "4cf2c29d",
   "metadata": {},
   "source": [
    "Here, `concatenated_array` will have the new array appended as a new row.\n",
    "\n",
    "<a name=\"stacking-arrays\"></a>\n",
    "\n",
    "### 4.2 Stacking Arrays (`stack`, `hstack`, `vstack`, `dstack`)\n",
    "\n",
    "#### Vertical Stack (`vstack`)\n",
    "\n",
    "Stacks arrays vertically (row-wise)."
   ]
  },
  {
   "cell_type": "code",
   "execution_count": 35,
   "id": "58ba4fca",
   "metadata": {},
   "outputs": [
    {
     "data": {
      "text/plain": [
       "(2, 2)"
      ]
     },
     "execution_count": 35,
     "metadata": {},
     "output_type": "execute_result"
    }
   ],
   "source": [
    "# Stacking arrays vertically\n",
    "vertical_stack = np.vstack((array_a, array_b))\n",
    "array_a.shape"
   ]
  },
  {
   "cell_type": "markdown",
   "id": "21cf5d4a",
   "metadata": {},
   "source": [
    "#### Horizontal Stack (`hstack`)\n",
    "\n",
    "Stacks arrays horizontally (column-wise)."
   ]
  },
  {
   "cell_type": "code",
   "execution_count": 8,
   "id": "65f6765b",
   "metadata": {},
   "outputs": [],
   "source": [
    "# Stacking arrays horizontally\n",
    "array_c = np.array([[7], [8]])\n",
    "horizontal_stack = np.hstack((array_a, array_c))"
   ]
  },
  {
   "cell_type": "markdown",
   "id": "5e6ee2b9",
   "metadata": {},
   "source": [
    "#### Depth Stack (`dstack`)\n",
    "\n",
    "Stacks arrays along the third axis (depth)."
   ]
  },
  {
   "cell_type": "code",
   "execution_count": 37,
   "id": "c9cdc328",
   "metadata": {},
   "outputs": [
    {
     "data": {
      "text/plain": [
       "array([[[1, 1],\n",
       "        [2, 2]],\n",
       "\n",
       "       [[3, 3],\n",
       "        [4, 4]]])"
      ]
     },
     "execution_count": 37,
     "metadata": {},
     "output_type": "execute_result"
    }
   ],
   "source": [
    "# Stacking arrays depth-wise\n",
    "depth_stack = np.dstack((array_a, array_a))\n",
    "depth_stack"
   ]
  },
  {
   "cell_type": "markdown",
   "id": "d2a44e52",
   "metadata": {},
   "source": [
    "#### Generic Stack (`stack`)\n",
    "\n",
    "Stacks arrays along a new axis."
   ]
  },
  {
   "cell_type": "code",
   "execution_count": 41,
   "id": "843844ee",
   "metadata": {
    "lines_to_next_cell": 0
   },
   "outputs": [],
   "source": [
    "# Stacking arrays along a new axis\n",
    "stacked_array = np.stack((array_a, array_a), axis=0)"
   ]
  },
  {
   "cell_type": "markdown",
   "id": "2a7022f2",
   "metadata": {},
   "source": [
    "<a name=\"splitting-arrays\"></a>\n",
    "\n",
    "## 5. Splitting Arrays\n",
    "\n",
    "Splitting arrays allows you to divide an array into multiple sub-arrays.\n",
    "\n",
    "<a name=\"splitting-arrays\"></a>\n",
    "\n",
    "### 5.1 Splitting Arrays (`split`, `hsplit`, `vsplit`, `dsplit`)\n",
    "\n",
    "#### Split (`split`)\n",
    "\n",
    "Splits an array into multiple sub-arrays along a specified axis."
   ]
  },
  {
   "cell_type": "code",
   "execution_count": 11,
   "id": "29aa9024",
   "metadata": {},
   "outputs": [],
   "source": [
    "# Creating an array\n",
    "array_d = np.array([1, 2, 3, 4, 5, 6])\n",
    "\n",
    "# Splitting the array into three equal-sized sub-arrays\n",
    "split_arrays = np.split(array_d, 3)"
   ]
  },
  {
   "cell_type": "markdown",
   "id": "a7693ecb",
   "metadata": {},
   "source": [
    "#### Horizontal Split (`hsplit`)\n",
    "\n",
    "Splits an array horizontally (column-wise)."
   ]
  },
  {
   "cell_type": "code",
   "execution_count": 12,
   "id": "31f8c37b",
   "metadata": {},
   "outputs": [],
   "source": [
    "# Creating a 2D array\n",
    "array_e = np.array([[1, 2, 3], [4, 5, 6]])\n",
    "\n",
    "# Splitting the array into three columns\n",
    "h_split_arrays = np.hsplit(array_e, 3)"
   ]
  },
  {
   "cell_type": "markdown",
   "id": "5046c459",
   "metadata": {},
   "source": [
    "#### Vertical Split (`vsplit`)\n",
    "\n",
    "Splits an array vertically (row-wise)."
   ]
  },
  {
   "cell_type": "code",
   "execution_count": 13,
   "id": "9b67c761",
   "metadata": {},
   "outputs": [],
   "source": [
    "# Splitting the array into two rows\n",
    "v_split_arrays = np.vsplit(array_e, 2)"
   ]
  },
  {
   "cell_type": "markdown",
   "id": "8c2e1242",
   "metadata": {},
   "source": [
    "#### Depth Split (`dsplit`)\n",
    "\n",
    "Splits an array along the depth (third) axis."
   ]
  },
  {
   "cell_type": "code",
   "execution_count": 14,
   "id": "2d79acf3",
   "metadata": {
    "lines_to_next_cell": 0
   },
   "outputs": [],
   "source": [
    "# Creating a 3D array\n",
    "array_f = np.array([[[1, 2], [3, 4]], [[5, 6], [7, 8]]])\n",
    "\n",
    "# Splitting the array along depth\n",
    "d_split_arrays = np.dsplit(array_f, 2)"
   ]
  },
  {
   "cell_type": "markdown",
   "id": "66414cbb",
   "metadata": {},
   "source": [
    "<a name=\"adding-removing-elements\"></a>\n",
    "\n",
    "## 6. Adding and Removing Elements\n",
    "\n",
    "NumPy provides functions to insert, append, and delete elements in arrays.\n",
    "\n",
    "<a name=\"inserting-elements\"></a>\n",
    "\n",
    "### 6.1 Inserting Elements (`insert`)\n",
    "\n",
    "The `insert` function allows you to insert values into an array at specified indices."
   ]
  },
  {
   "cell_type": "code",
   "execution_count": 15,
   "id": "f793a5d9",
   "metadata": {},
   "outputs": [],
   "source": [
    "# Creating an array\n",
    "array_g = np.array([1, 2, 3, 4, 5])\n",
    "\n",
    "# Inserting value 99 at index 2\n",
    "array_with_insert = np.insert(array_g, 2, 99)"
   ]
  },
  {
   "cell_type": "markdown",
   "id": "62353632",
   "metadata": {},
   "source": [
    "<a name=\"appending-elements\"></a>\n",
    "\n",
    "### 6.2 Appending Elements (`append`)\n",
    "\n",
    "The `append` function adds values to the end of an array."
   ]
  },
  {
   "cell_type": "code",
   "execution_count": 16,
   "id": "00e4924b",
   "metadata": {},
   "outputs": [],
   "source": [
    "# Appending value 6 to the array\n",
    "array_with_append = np.append(array_g, 6)"
   ]
  },
  {
   "cell_type": "markdown",
   "id": "b5ca2157",
   "metadata": {},
   "source": [
    "<a name=\"deleting-elements\"></a>\n",
    "\n",
    "### 6.3 Deleting Elements (`delete`)\n",
    "\n",
    "The `delete` function removes elements at specified indices."
   ]
  },
  {
   "cell_type": "code",
   "execution_count": 17,
   "id": "ae371bc3",
   "metadata": {
    "lines_to_next_cell": 0
   },
   "outputs": [],
   "source": [
    "# Deleting the element at index 1\n",
    "array_with_delete = np.delete(array_g, 1)"
   ]
  },
  {
   "cell_type": "markdown",
   "id": "bfed43b5",
   "metadata": {},
   "source": [
    "<a name=\"copying-viewing-arrays\"></a>\n",
    "\n",
    "## 7. Copying and Viewing Arrays\n",
    "\n",
    "Understanding how copying works in NumPy is important to avoid unintended side effects.\n",
    "\n",
    "<a name=\"no-copy\"></a>\n",
    "\n",
    "### 7.1 No Copy at All\n",
    "\n",
    "Assigning an array to a new variable does not create a copy; both variables point to the same data."
   ]
  },
  {
   "cell_type": "code",
   "execution_count": 18,
   "id": "399d0da9",
   "metadata": {},
   "outputs": [],
   "source": [
    "# Assigning array_g to array_h\n",
    "array_h = array_g"
   ]
  },
  {
   "cell_type": "markdown",
   "id": "d473f47c",
   "metadata": {},
   "source": [
    "Modifying `array_h` will affect `array_g`.\n",
    "\n",
    "<a name=\"view-shallow-copy\"></a>\n",
    "\n",
    "### 7.2 View or Shallow Copy\n",
    "\n",
    "A view creates a new array object that looks at the same data."
   ]
  },
  {
   "cell_type": "code",
   "execution_count": 19,
   "id": "b1d1a414",
   "metadata": {},
   "outputs": [],
   "source": [
    "# Creating a view of array_g\n",
    "array_view = array_g.view()"
   ]
  },
  {
   "cell_type": "markdown",
   "id": "a021a1e1",
   "metadata": {},
   "source": [
    "Changes to the data in the view will affect the original array.\n",
    "\n",
    "<a name=\"deep-copy\"></a>\n",
    "\n",
    "### 7.3 Deep Copy\n",
    "\n",
    "A deep copy creates a new array and copies the data."
   ]
  },
  {
   "cell_type": "code",
   "execution_count": 20,
   "id": "c650646e",
   "metadata": {},
   "outputs": [],
   "source": [
    "# Creating a deep copy of array_g\n",
    "array_copy = array_g.copy()"
   ]
  },
  {
   "cell_type": "markdown",
   "id": "4aa305f5",
   "metadata": {},
   "source": [
    "Modifying `array_copy` will not affect `array_g`.\n"
   ]
  },
  {
   "cell_type": "markdown",
   "id": "695b13f3",
   "metadata": {},
   "source": [
    "<a name=\"broadcasting\"></a>\n",
    "\n",
    "## 8. Broadcasting\n",
    "\n",
    "Broadcasting allows NumPy to perform operations on arrays of different shapes.\n",
    "\n",
    "<a name=\"broadcasting-rules\"></a>\n",
    "\n",
    "### 8.1 Understanding Broadcasting Rules\n",
    "\n",
    "* If the arrays do not have the same rank, prepend the shape with ones until both shapes have the same length.\n",
    "* The size of each dimension should be the same or one of them should be one.\n",
    "\n",
    "<a name=\"broadcasting-examples\"></a>\n",
    "\n",
    "### 8.2 Broadcasting Examples"
   ]
  },
  {
   "cell_type": "code",
   "execution_count": 42,
   "id": "c483d70b",
   "metadata": {},
   "outputs": [
    {
     "data": {
      "text/plain": [
       "array([[5, 6, 7],\n",
       "       [6, 7, 8],\n",
       "       [7, 8, 9]])"
      ]
     },
     "execution_count": 42,
     "metadata": {},
     "output_type": "execute_result"
    }
   ],
   "source": [
    "# Creating arrays of different shapes\n",
    "array_i = np.array([1, 2, 3])\n",
    "array_j = np.array([[4], [5], [6]])\n",
    "\n",
    "# Adding arrays using broadcasting\n",
    "broadcast_sum = array_i + array_j\n",
    "broadcast_sum"
   ]
  },
  {
   "cell_type": "markdown",
   "id": "8d21c90d",
   "metadata": {},
   "source": [
    "In this example, `array_i` is reshaped to `(1, 3)` and `array_j` to `(3, 1)`. Broadcasting allows the addition to proceed.\n"
   ]
  },
  {
   "cell_type": "markdown",
   "id": "d4ddf6a4",
   "metadata": {},
   "source": [
    "<a name=\"sorting-arrays\"></a>\n",
    "\n",
    "## 9. Sorting Arrays\n",
    "\n",
    "Sorting arrays is a common operation in data analysis.\n",
    "\n",
    "<a name=\"simple-sorting\"></a>\n",
    "\n",
    "### 9.1 Simple Sorting (`sort`)\n",
    "\n",
    "The `sort` function returns a sorted copy of an array."
   ]
  },
  {
   "cell_type": "code",
   "execution_count": 22,
   "id": "fd425d4e",
   "metadata": {},
   "outputs": [],
   "source": [
    "# Creating an unsorted array\n",
    "array_k = np.array([3, 1, 2])\n",
    "\n",
    "# Sorting the array\n",
    "sorted_array = np.sort(array_k)"
   ]
  },
  {
   "cell_type": "markdown",
   "id": "a9789e33",
   "metadata": {},
   "source": [
    "<a name=\"argsort\"></a>\n",
    "\n",
    "### 9.2 Argsort (`argsort`)\n",
    "\n",
    "The `argsort` function returns the indices that would sort an array."
   ]
  },
  {
   "cell_type": "code",
   "execution_count": 23,
   "id": "d50ef560",
   "metadata": {},
   "outputs": [],
   "source": [
    "# Getting the indices that would sort the array\n",
    "sorted_indices = np.argsort(array_k)"
   ]
  },
  {
   "cell_type": "markdown",
   "id": "85e37f14",
   "metadata": {},
   "source": [
    "Using `sorted_indices`, you can rearrange another array to correspond with the sorted order.\n"
   ]
  }
 ],
 "metadata": {
  "jupytext": {
   "cell_metadata_filter": "-all",
   "main_language": "python",
   "notebook_metadata_filter": "-all"
  },
  "kernelspec": {
   "display_name": "py310",
   "language": "python",
   "name": "python3"
  },
  "language_info": {
   "codemirror_mode": {
    "name": "ipython",
    "version": 3
   },
   "file_extension": ".py",
   "mimetype": "text/x-python",
   "name": "python",
   "nbconvert_exporter": "python",
   "pygments_lexer": "ipython3",
   "version": "3.10.14"
  }
 },
 "nbformat": 4,
 "nbformat_minor": 5
}
