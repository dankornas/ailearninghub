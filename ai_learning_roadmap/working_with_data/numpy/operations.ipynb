{
 "cells": [
  {
   "cell_type": "markdown",
   "id": "af2b5025",
   "metadata": {},
   "source": [
    "# NumPy Basics: Arithmetic Operations and Universal Functions\n",
    "\n",
    "Numpy provides support for large, multi-dimensional arrays and matrices, along with a collection of mathematical functions to operate on them efficiently. Understanding how to perform arithmetic operations and utilize universal functions (ufuncs) is essential for data analysis, machine learning, and scientific computations.\n",
    "\n",
    "<a name=\"importing-numpy\"></a>\n",
    "\n",
    "## Importing NumPy\n",
    "\n",
    "Before you begin working with NumPy, you need to import the library. It's standard practice to import NumPy using the alias `np` for convenience."
   ]
  },
  {
   "cell_type": "code",
   "execution_count": 1,
   "id": "8d5f434b",
   "metadata": {
    "lines_to_next_cell": 0
   },
   "outputs": [],
   "source": [
    "import numpy as np"
   ]
  },
  {
   "cell_type": "markdown",
   "id": "97b711d5",
   "metadata": {},
   "source": [
    "<a name=\"basic-arithmetic-operations\"></a>\n",
    "\n",
    "## Basic Arithmetic Operations\n",
    "\n",
    "NumPy allows you to perform element-wise arithmetic operations on arrays. These operations are applied to each corresponding element of the arrays involved.\n",
    "\n",
    "### Creating Arrays\n",
    "\n",
    "First, let's create two NumPy arrays:"
   ]
  },
  {
   "cell_type": "code",
   "execution_count": 2,
   "id": "916bd01e",
   "metadata": {},
   "outputs": [],
   "source": [
    "# Creating two arrays\n",
    "arr1 = np.arange(0, 5)\n",
    "arr2 = np.arange(6, 11)"
   ]
  },
  {
   "cell_type": "markdown",
   "id": "41fa69d1",
   "metadata": {},
   "source": [
    "* `arr1` will contain `[0, 1, 2, 3, 4]`.\n",
    "* `arr2` will contain `[6, 7, 8, 9, 10]`.\n",
    "\n",
    "<a name=\"addition\"></a>\n",
    "\n",
    "### Addition\n",
    "\n",
    "You can add two arrays element-wise using the `+` operator:"
   ]
  },
  {
   "cell_type": "code",
   "execution_count": 3,
   "id": "11e1e5a3",
   "metadata": {},
   "outputs": [
    {
     "data": {
      "text/plain": [
       "array([ 6,  8, 10, 12, 14])"
      ]
     },
     "execution_count": 3,
     "metadata": {},
     "output_type": "execute_result"
    }
   ],
   "source": [
    "# Element-wise addition\n",
    "addition_result = arr1 + arr2\n",
    "addition_result"
   ]
  },
  {
   "cell_type": "markdown",
   "id": "feb8e160",
   "metadata": {},
   "source": [
    "This operation adds each element of `arr1` to the corresponding element in `arr2`.\n",
    "\n",
    "<a name=\"subtraction\"></a>\n",
    "\n",
    "### Subtraction\n",
    "\n",
    "Subtraction is also performed element-wise using the `-` operator:"
   ]
  },
  {
   "cell_type": "code",
   "execution_count": 4,
   "id": "9eafc7da",
   "metadata": {},
   "outputs": [],
   "source": [
    "# Element-wise subtraction\n",
    "subtraction_result = arr2 - arr1"
   ]
  },
  {
   "cell_type": "markdown",
   "id": "5ee9bb87",
   "metadata": {},
   "source": [
    "This subtracts each element of `arr1` from the corresponding element in `arr2`.\n",
    "\n",
    "<a name=\"multiplication\"></a>\n",
    "\n",
    "### Multiplication\n",
    "\n",
    "Element-wise multiplication uses the `*` operator:"
   ]
  },
  {
   "cell_type": "code",
   "execution_count": 5,
   "id": "68be0f45",
   "metadata": {},
   "outputs": [],
   "source": [
    "# Element-wise multiplication\n",
    "multiplication_result = arr1 * arr2"
   ]
  },
  {
   "cell_type": "markdown",
   "id": "04b5c103",
   "metadata": {},
   "source": [
    "Each element in `arr1` is multiplied by the corresponding element in `arr2`.\n",
    "\n",
    "<a name=\"division\"></a>\n",
    "\n",
    "### Division\n",
    "\n",
    "Element-wise division is performed using the `/` operator:"
   ]
  },
  {
   "cell_type": "code",
   "execution_count": 6,
   "id": "db12e695",
   "metadata": {},
   "outputs": [],
   "source": [
    "# Element-wise division\n",
    "division_result = arr1 / arr2"
   ]
  },
  {
   "cell_type": "markdown",
   "id": "ad59bd4e",
   "metadata": {},
   "source": [
    "This divides each element in `arr1` by the corresponding element in `arr2`.\n",
    "\n",
    "**Note:** Be cautious of division by zero. In this example, `arr1` starts with `0`, but since `arr2` does not contain zero, division by zero does not occur.\n",
    "\n",
    "<a name=\"exponentiation\"></a>\n",
    "\n",
    "### Exponentiation (Squaring)\n",
    "\n",
    "You can raise each element of an array to a power using the `**` operator:"
   ]
  },
  {
   "cell_type": "code",
   "execution_count": 7,
   "id": "98534316",
   "metadata": {},
   "outputs": [],
   "source": [
    "# Element-wise exponentiation (squaring arr1)\n",
    "squared_result = arr1 ** 2"
   ]
  },
  {
   "cell_type": "markdown",
   "id": "90135829",
   "metadata": {},
   "source": [
    "This squares each element in `arr1`.\n"
   ]
  },
  {
   "cell_type": "markdown",
   "id": "99cd84b0",
   "metadata": {},
   "source": [
    "<a name=\"universal-functions\"></a>\n",
    "\n",
    "## Universal Functions (ufuncs)\n",
    "\n",
    "Universal functions, or ufuncs, are functions that operate element-wise on arrays. They are highly optimized and support broadcasting, typecasting, and several other features.\n",
    "\n",
    "<a name=\"mathematical-functions\"></a>\n",
    "\n",
    "### Mathematical Functions\n",
    "\n",
    "NumPy provides a range of mathematical functions that operate element-wise.\n",
    "\n",
    "#### Addition (`np.add`)"
   ]
  },
  {
   "cell_type": "code",
   "execution_count": 8,
   "id": "8703fad7",
   "metadata": {},
   "outputs": [],
   "source": [
    "# Using np.add to add two arrays\n",
    "addition_result = np.add(arr1, arr2)"
   ]
  },
  {
   "cell_type": "markdown",
   "id": "34fc9a8a",
   "metadata": {},
   "source": [
    "This function performs element-wise addition of `arr1` and `arr2`.\n",
    "\n",
    "#### Subtraction (`np.subtract`)"
   ]
  },
  {
   "cell_type": "code",
   "execution_count": 20,
   "id": "ea003fb3",
   "metadata": {},
   "outputs": [
    {
     "data": {
      "text/plain": [
       "array([-6, -6, -6, -6, -6])"
      ]
     },
     "execution_count": 20,
     "metadata": {},
     "output_type": "execute_result"
    }
   ],
   "source": [
    "# Using np.subtract to subtract arr2 from arr1\n",
    "subtraction_result = np.subtract(arr1, arr2)\n",
    "subtraction_result"
   ]
  },
  {
   "cell_type": "markdown",
   "id": "e8ccc16c",
   "metadata": {},
   "source": [
    "Subtracts each element in `arr2` from the corresponding element in `arr1`.\n",
    "\n",
    "#### Multiplication (`np.multiply`)"
   ]
  },
  {
   "cell_type": "code",
   "execution_count": 10,
   "id": "af9750df",
   "metadata": {},
   "outputs": [],
   "source": [
    "# Using np.multiply to multiply two arrays\n",
    "multiplication_result = np.multiply(arr1, arr2)"
   ]
  },
  {
   "cell_type": "markdown",
   "id": "82ef64ae",
   "metadata": {},
   "source": [
    "Multiplies each element in `arr1` by the corresponding element in `arr2`.\n",
    "\n",
    "#### Division (`np.divide`)"
   ]
  },
  {
   "cell_type": "code",
   "execution_count": 11,
   "id": "12c4025e",
   "metadata": {},
   "outputs": [],
   "source": [
    "# Using np.divide to divide arr1 by arr2\n",
    "division_result = np.divide(arr1, arr2)"
   ]
  },
  {
   "cell_type": "markdown",
   "id": "712c010f",
   "metadata": {},
   "source": [
    "Divides each element in `arr1` by the corresponding element in `arr2`.\n",
    "\n",
    "#### Power (`np.power`)"
   ]
  },
  {
   "cell_type": "code",
   "execution_count": 21,
   "id": "f4b49e9c",
   "metadata": {},
   "outputs": [
    {
     "data": {
      "text/plain": [
       "array([      0,       1,     256,   19683, 1048576])"
      ]
     },
     "execution_count": 21,
     "metadata": {},
     "output_type": "execute_result"
    }
   ],
   "source": [
    "# Using np.power to raise elements of arr1 to powers from arr2\n",
    "power_result = np.power(arr1, arr2)\n",
    "power_result"
   ]
  },
  {
   "cell_type": "markdown",
   "id": "bcf895d1",
   "metadata": {},
   "source": [
    "Raises each element in `arr1` to the power of the corresponding element in `arr2`. For example, `arr1[0]` raised to `arr2[0]` (i.e., `0**6`).\n",
    "\n",
    "<a name=\"trigonometric-functions\"></a>\n",
    "\n",
    "### Trigonometric Functions\n",
    "\n",
    "NumPy offers trigonometric functions that operate on arrays. The input values are assumed to be in radians.\n",
    "\n",
    "#### Sine (`np.sin`)"
   ]
  },
  {
   "cell_type": "code",
   "execution_count": 13,
   "id": "4204fe4e",
   "metadata": {},
   "outputs": [],
   "source": [
    "# Calculating the sine of each element in arr1\n",
    "sine_result = np.sin(arr1)"
   ]
  },
  {
   "cell_type": "markdown",
   "id": "45b46ae4",
   "metadata": {},
   "source": [
    "Computes the sine of each element in `arr1`.\n",
    "\n",
    "#### Cosine (`np.cos`)"
   ]
  },
  {
   "cell_type": "code",
   "execution_count": 14,
   "id": "a94eaf31",
   "metadata": {},
   "outputs": [],
   "source": [
    "# Calculating the cosine of each element in arr1\n",
    "cosine_result = np.cos(arr1)"
   ]
  },
  {
   "cell_type": "markdown",
   "id": "348cb0d7",
   "metadata": {},
   "source": [
    "Computes the cosine of each element in `arr1`.\n",
    "\n",
    "#### Tangent (`np.tan`)"
   ]
  },
  {
   "cell_type": "code",
   "execution_count": 15,
   "id": "606b8c0b",
   "metadata": {},
   "outputs": [],
   "source": [
    "# Calculating the tangent of each element in arr2\n",
    "tangent_result = np.tan(arr2)"
   ]
  },
  {
   "cell_type": "markdown",
   "id": "0ea9685a",
   "metadata": {},
   "source": [
    "Computes the tangent of each element in `arr2`.\n",
    "\n",
    "**Note:** Trigonometric functions expect input in radians. If you have degrees, convert them using `np.deg2rad()`.\n",
    "\n",
    "<a name=\"exponential-logarithmic-functions\"></a>\n",
    "\n",
    "### Exponential and Logarithmic Functions\n",
    "\n",
    "#### Exponential (`np.exp`)"
   ]
  },
  {
   "cell_type": "code",
   "execution_count": 16,
   "id": "331a23cb",
   "metadata": {},
   "outputs": [],
   "source": [
    "# Calculating the exponential (e^x) of each element in arr2\n",
    "exponential_result = np.exp(arr2)"
   ]
  },
  {
   "cell_type": "markdown",
   "id": "5a2d90a8",
   "metadata": {},
   "source": [
    "Computes the exponential of each element in `arr2`.\n",
    "\n",
    "#### Logarithm (`np.log`)"
   ]
  },
  {
   "cell_type": "code",
   "execution_count": 17,
   "id": "e842206c",
   "metadata": {},
   "outputs": [],
   "source": [
    "# Calculating the natural logarithm of each element in arr2\n",
    "logarithm_result = np.log(arr2)"
   ]
  },
  {
   "cell_type": "markdown",
   "id": "736eec61",
   "metadata": {},
   "source": [
    "Computes the natural logarithm (base e) of each element in `arr2`.\n",
    "\n",
    "**Note:** All elements in `arr2` must be positive for `np.log` to work properly.\n",
    "\n",
    "<a name=\"comparison-functions\"></a>\n",
    "\n",
    "### Comparison Functions\n",
    "\n",
    "Comparison functions perform element-wise comparisons and return boolean arrays.\n",
    "\n",
    "#### Greater (`np.greater`)"
   ]
  },
  {
   "cell_type": "code",
   "execution_count": 18,
   "id": "4b18547f",
   "metadata": {},
   "outputs": [],
   "source": [
    "# Comparing elements of arr1 and arr2\n",
    "greater_result = np.greater(arr1, arr2)"
   ]
  },
  {
   "cell_type": "markdown",
   "id": "d0526a8e",
   "metadata": {},
   "source": [
    "Returns `True` where elements in `arr1` are greater than those in `arr2`, else `False`.\n",
    "\n",
    "#### Less (`np.less`)"
   ]
  },
  {
   "cell_type": "code",
   "execution_count": 19,
   "id": "24679948",
   "metadata": {},
   "outputs": [],
   "source": [
    "# Checking if elements in arr1 are less than those in arr2\n",
    "less_result = np.less(arr1, arr2)"
   ]
  },
  {
   "cell_type": "markdown",
   "id": "325efa9a",
   "metadata": {},
   "source": [
    "Returns `True` where elements in `arr1` are less than those in `arr2`, else `False`."
   ]
  }
 ],
 "metadata": {
  "jupytext": {
   "cell_metadata_filter": "-all",
   "main_language": "python",
   "notebook_metadata_filter": "-all"
  },
  "kernelspec": {
   "display_name": "py310",
   "language": "python",
   "name": "python3"
  },
  "language_info": {
   "codemirror_mode": {
    "name": "ipython",
    "version": 3
   },
   "file_extension": ".py",
   "mimetype": "text/x-python",
   "name": "python",
   "nbconvert_exporter": "python",
   "pygments_lexer": "ipython3",
   "version": "3.10.14"
  }
 },
 "nbformat": 4,
 "nbformat_minor": 5
}
