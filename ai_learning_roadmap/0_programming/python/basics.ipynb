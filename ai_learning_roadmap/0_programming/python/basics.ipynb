{
 "cells": [
  {
   "cell_type": "markdown",
   "id": "de251fdf",
   "metadata": {},
   "source": [
    "<iframe\n",
    "  style=\"width: 100%; aspect-ratio: 16 / 9;\"\n",
    "  src=\"https://www.youtube.com/embed/aTUG6uqMlxY\"\n",
    "  title=\"YouTube video player\"\n",
    "  frameborder=\"0\"\n",
    "  allow=\"accelerometer; autoplay; clipboard-write; encrypted-media; gyroscope; picture-in-picture; web-share\"\n",
    "  allowfullscreen>\n",
    "</iframe>"
   ]
  },
  {
   "cell_type": "markdown",
   "id": "764948e7",
   "metadata": {},
   "source": [
    "# Basics of Python\n",
    "\n",
    "This tutorial covers essential Python concepts, including comments, writing code, and printing information. By the end, you’ll have a clear understanding of these foundational topics."
   ]
  },
  {
   "cell_type": "markdown",
   "id": "b1ed9860",
   "metadata": {},
   "source": [
    "## Comments\n",
    "\n",
    "Comments are an essential part of writing Python code. They allow you to add explanations or notes to your code without affecting its execution.\n",
    "\n",
    "### Single-Line Comments\n",
    "\n",
    "Use the `#` symbol to create a single-line comment:"
   ]
  },
  {
   "cell_type": "code",
   "execution_count": 1,
   "id": "101919f7",
   "metadata": {},
   "outputs": [],
   "source": [
    "# This is a comment"
   ]
  },
  {
   "cell_type": "markdown",
   "id": "c37f0860",
   "metadata": {},
   "source": [
    "### Multi-Line Comments\n",
    "\n",
    "Use triple quotes (`'''` or `\"\"\"`) to create multi-line comments:"
   ]
  },
  {
   "cell_type": "code",
   "execution_count": 2,
   "id": "ed4409e1",
   "metadata": {},
   "outputs": [
    {
     "data": {
      "text/plain": [
       "'\\nThis is also a comment\\n'"
      ]
     },
     "execution_count": 2,
     "metadata": {},
     "output_type": "execute_result"
    }
   ],
   "source": [
    "'''\n",
    "This is also a comment\n",
    "'''"
   ]
  },
  {
   "cell_type": "markdown",
   "id": "466debb2",
   "metadata": {},
   "source": [
    "## Writing Code\n",
    "\n",
    "In Python, writing code involves creating a set of instructions for the computer to execute. These instructions often include variables, functions, and other Python methods.\n",
    "\n",
    "### Creating a Variable\n",
    "\n",
    "A variable is used to store information for later use:"
   ]
  },
  {
   "cell_type": "code",
   "execution_count": 3,
   "id": "3944e36c",
   "metadata": {},
   "outputs": [],
   "source": [
    "# Creating a variable, most basic form\n",
    "name = \"Dan\""
   ]
  },
  {
   "cell_type": "markdown",
   "id": "a86832ca",
   "metadata": {},
   "source": [
    "### Writing Statements Over Multiple Lines\n",
    "\n",
    "You can split a statement across multiple lines for better readability:"
   ]
  },
  {
   "cell_type": "code",
   "execution_count": 4,
   "id": "3bf1731e",
   "metadata": {},
   "outputs": [
    {
     "name": "stdout",
     "output_type": "stream",
     "text": [
      "10\n"
     ]
    }
   ],
   "source": [
    "# Writing statements over multiple lines\n",
    "number = (\n",
    "    1 + 2\n",
    "    + 7\n",
    ")\n",
    "print(number)"
   ]
  },
  {
   "cell_type": "markdown",
   "id": "1edc3a5f",
   "metadata": {},
   "source": [
    "Alternatively, use a backslash (`\\`) to indicate that a statement continues on the next line:"
   ]
  },
  {
   "cell_type": "code",
   "execution_count": 5,
   "id": "91552aec",
   "metadata": {},
   "outputs": [
    {
     "name": "stdout",
     "output_type": "stream",
     "text": [
      "15\n"
     ]
    }
   ],
   "source": [
    "# Writing statements over multiple lines using backslash\n",
    "new_number = 2 + 3 \\\n",
    "        + 10\n",
    "\n",
    "print(new_number)"
   ]
  },
  {
   "cell_type": "markdown",
   "id": "91575103",
   "metadata": {},
   "source": [
    "### Writing Multiple Statements on One Line\n",
    "\n",
    "You can write multiple statements on a single line using semicolons (`;`):"
   ]
  },
  {
   "cell_type": "code",
   "execution_count": 6,
   "id": "0a26fa97",
   "metadata": {},
   "outputs": [],
   "source": [
    "# Put multiple statements on one line\n",
    "num1 = 5; num2 = 3 - 2"
   ]
  },
  {
   "cell_type": "markdown",
   "id": "1ebbbb3d",
   "metadata": {},
   "source": [
    "## Printing Information\n",
    "\n",
    "Printing information is essential for debugging and providing program output. Python provides the `print()` function to display data on the screen.\n",
    "\n",
    "### Printing a String\n",
    "\n",
    "Strings are a sequence of characters enclosed in quotes:"
   ]
  },
  {
   "cell_type": "code",
   "execution_count": 7,
   "id": "90bfab91",
   "metadata": {},
   "outputs": [
    {
     "name": "stdout",
     "output_type": "stream",
     "text": [
      "Hello World\n"
     ]
    }
   ],
   "source": [
    "# Printing a string\n",
    "print(\"Hello World\")"
   ]
  },
  {
   "cell_type": "markdown",
   "id": "6f7b9897",
   "metadata": {},
   "source": [
    "**Common Error**: If you forget to enclose text in quotes, Python will throw an error because it will interpret the text as a variable name:"
   ]
  },
  {
   "cell_type": "code",
   "execution_count": 8,
   "id": "ff4cf715",
   "metadata": {},
   "outputs": [
    {
     "ename": "SyntaxError",
     "evalue": "invalid syntax. Perhaps you forgot a comma? (642095908.py, line 2)",
     "output_type": "error",
     "traceback": [
      "\u001b[0;36m  Cell \u001b[0;32mIn[8], line 2\u001b[0;36m\u001b[0m\n\u001b[0;31m    print(Hello World)\u001b[0m\n\u001b[0m          ^\u001b[0m\n\u001b[0;31mSyntaxError\u001b[0m\u001b[0;31m:\u001b[0m invalid syntax. Perhaps you forgot a comma?\n"
     ]
    }
   ],
   "source": [
    "# This does not work because \"Hello World\" is not a variable or a valid data type\n",
    "print(Hello World)"
   ]
  },
  {
   "cell_type": "markdown",
   "id": "cf0a7539",
   "metadata": {},
   "source": [
    "### Printing a Variable\n",
    "\n",
    "You can print the value of a variable by passing its name to the `print()` function:"
   ]
  },
  {
   "cell_type": "code",
   "execution_count": 9,
   "id": "c7176d4c",
   "metadata": {},
   "outputs": [
    {
     "name": "stdout",
     "output_type": "stream",
     "text": [
      "Hello World\n"
     ]
    }
   ],
   "source": [
    "# Printing a variable\n",
    "word = \"Hello World\"\n",
    "print(word)"
   ]
  },
  {
   "cell_type": "markdown",
   "id": "52286aa4",
   "metadata": {},
   "source": [
    "### Printing Numbers\n",
    "\n",
    "Python can print numbers like integers or floats directly:"
   ]
  },
  {
   "cell_type": "code",
   "execution_count": 10,
   "id": "77f9b172",
   "metadata": {},
   "outputs": [
    {
     "name": "stdout",
     "output_type": "stream",
     "text": [
      "3.15\n"
     ]
    }
   ],
   "source": [
    "# Printing a number\n",
    "print(3.15)"
   ]
  },
  {
   "cell_type": "markdown",
   "id": "a45f7860",
   "metadata": {},
   "source": [
    "### Printing Multiple Values\n",
    "\n",
    "You can print multiple values at once by separating them with commas:"
   ]
  },
  {
   "cell_type": "code",
   "execution_count": 11,
   "id": "ef287562",
   "metadata": {},
   "outputs": [
    {
     "name": "stdout",
     "output_type": "stream",
     "text": [
      "3.15 This is pi True\n"
     ]
    }
   ],
   "source": [
    "# Printing multiple values\n",
    "print(3.15, \"This is pi\", True)"
   ]
  },
  {
   "cell_type": "markdown",
   "id": "aa7ca721",
   "metadata": {},
   "source": [
    "### Using Arguments in the `print()` Function\n",
    "\n",
    "The `print()` function accepts various arguments to customize its behavior.\n",
    "\n",
    "#### Default Behavior of `print()`\n",
    "\n",
    "By default, `print()` ends with a newline (`\\n`):"
   ]
  },
  {
   "cell_type": "code",
   "execution_count": 12,
   "id": "01d63e07",
   "metadata": {},
   "outputs": [
    {
     "name": "stdout",
     "output_type": "stream",
     "text": [
      "This is one line\n",
      "This is another line\n"
     ]
    }
   ],
   "source": [
    "# By default, `end='\\n'` means a new line after the print statement\n",
    "print(\"This is one line\", end='\\n')\n",
    "print(\"This is another line\")"
   ]
  },
  {
   "cell_type": "markdown",
   "id": "e58e49d2",
   "metadata": {},
   "source": [
    "#### Customizing the `end` Argument\n",
    "\n",
    "You can change the behavior of `print()` by modifying the `end` argument:"
   ]
  },
  {
   "cell_type": "code",
   "execution_count": 13,
   "id": "20d50c5b",
   "metadata": {},
   "outputs": [
    {
     "name": "stdout",
     "output_type": "stream",
     "text": [
      "First line---Second line\n"
     ]
    }
   ],
   "source": [
    "# Changing the end argument\n",
    "print(\"First line\", end=\"---\")\n",
    "print(\"Second line\")"
   ]
  }
 ],
 "metadata": {
  "jupytext": {
   "cell_metadata_filter": "-all",
   "main_language": "python",
   "notebook_metadata_filter": "-all"
  },
  "kernelspec": {
   "display_name": "venv",
   "language": "python",
   "name": "python3"
  },
  "language_info": {
   "codemirror_mode": {
    "name": "ipython",
    "version": 3
   },
   "file_extension": ".py",
   "mimetype": "text/x-python",
   "name": "python",
   "nbconvert_exporter": "python",
   "pygments_lexer": "ipython3",
   "version": "3.13.0"
  }
 },
 "nbformat": 4,
 "nbformat_minor": 5
}
