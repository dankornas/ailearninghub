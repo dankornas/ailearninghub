{
 "cells": [
  {
   "cell_type": "markdown",
   "id": "c08bc9f4",
   "metadata": {},
   "source": [
    "# NumPy Basics: Creating Arrays\n",
    "\n",
    "NumPy is a fundamental library for scientific computing in Python, providing support for arrays and matrices, along with a collection of mathematical functions to operate on them efficiently. \n",
    "\n",
    "## Introduction to NumPy Arrays\n",
    "\n",
    "NumPy arrays are the core of the NumPy library. They are similar to Python lists but come with added benefits:\n",
    "\n",
    "* **Efficiency**: NumPy arrays are more compact and faster than Python lists.\n",
    "* **Functionality**: They support vectorized operations, allowing for element-wise operations without explicit loops.\n",
    "* **Dimensionality**: They can be multi-dimensional, enabling complex mathematical computations.\n",
    "\n",
    "Understanding how to create and manipulate NumPy arrays is fundamental for scientific computing and data analysis in Python.\n",
    "\n",
    "<a name=\"importing-numpy\"></a>\n",
    "\n",
    "## Importing NumPy\n",
    "\n",
    "Before you start working with NumPy, you need to import the library into your Python environment. It's a common practice to import NumPy using the alias `np`, which makes it easier to reference the library's functions."
   ]
  },
  {
   "cell_type": "code",
   "execution_count": 1,
   "id": "9ed6f8cd",
   "metadata": {},
   "outputs": [],
   "source": [
    "import numpy as np"
   ]
  },
  {
   "cell_type": "markdown",
   "id": "4a0b6982",
   "metadata": {},
   "source": [
    "This line of code imports the NumPy library and assigns it the alias `np`, allowing you to use functions like `np.array()` instead of `numpy.array()`.\n"
   ]
  },
  {
   "cell_type": "markdown",
   "id": "fc65246c",
   "metadata": {},
   "source": [
    "<a name=\"creating-from-lists\"></a>\n",
    "\n",
    "## Creating Arrays from Lists and Tuples\n",
    "\n",
    "One of the simplest ways to create a NumPy array is from a Python list or tuple using the `np.array()` function.\n",
    "\n",
    "<a name=\"one-dimensional-arrays\"></a>\n",
    "\n",
    "### One-Dimensional Arrays\n",
    "\n",
    "A one-dimensional array, also known as a vector, can be created by passing a list or tuple of numbers to `np.array()`. This array will act similarly to a list but with additional functionalities provided by NumPy."
   ]
  },
  {
   "cell_type": "code",
   "execution_count": 2,
   "id": "b3c60656",
   "metadata": {},
   "outputs": [],
   "source": [
    "# Creating a 1D array from a list\n",
    "array_1d = np.array([1, 2, 3, 4, 5])"
   ]
  },
  {
   "cell_type": "markdown",
   "id": "29a559e1",
   "metadata": {},
   "source": [
    "In this example, `array_1d` is a NumPy array containing the elements 1 through 5. You can perform various mathematical operations on this array, such as addition, subtraction, and element-wise multiplication.\n",
    "\n",
    "<a name=\"two-dimensional-arrays\"></a>\n",
    "\n",
    "### Two-Dimensional Arrays\n",
    "\n",
    "To create a two-dimensional array, or matrix, you can pass a list of lists (or tuples of tuples) to `np.array()`. Each inner list represents a row in the matrix."
   ]
  },
  {
   "cell_type": "code",
   "execution_count": 3,
   "id": "beba04a6",
   "metadata": {},
   "outputs": [],
   "source": [
    "# Creating a 2D array from a list of lists\n",
    "array_2d = np.array([[1, 2, 3], [4, 5, 6]])"
   ]
  },
  {
   "cell_type": "markdown",
   "id": "e545251e",
   "metadata": {},
   "source": [
    "Here, `array_2d` is a 2x3 matrix with two rows and three columns. This structure allows you to perform operations like matrix multiplication and transposition.\n",
    "\n",
    "<a name=\"higher-dimensional-arrays\"></a>\n",
    "\n",
    "### Higher-Dimensional Arrays\n",
    "\n",
    "NumPy also supports arrays with more than two dimensions, known as multi-dimensional arrays or tensors. You can create these by nesting lists or tuples further."
   ]
  },
  {
   "cell_type": "code",
   "execution_count": 4,
   "id": "7026504f",
   "metadata": {},
   "outputs": [],
   "source": [
    "# Creating a 3D array\n",
    "array_3d = np.array([\n",
    "    [[1, 2], [3, 4]],\n",
    "    [[5, 6], [7, 8]]\n",
    "])"
   ]
  },
  {
   "cell_type": "markdown",
   "id": "93e40325",
   "metadata": {},
   "source": [
    "In this example, `array_3d` is a three-dimensional array with dimensions 2x2x2. This kind of array is useful in advanced computations like those found in machine learning and scientific simulations.\n"
   ]
  },
  {
   "cell_type": "markdown",
   "id": "aa9057a2",
   "metadata": {},
   "source": [
    "<a name=\"array-attributes\"></a>\n",
    "\n",
    "## Array Attributes\n",
    "\n",
    "NumPy arrays come with several attributes that provide information about the array's structure and data. Understanding these attributes can help you manipulate arrays more effectively.\n",
    "\n",
    "* **`ndim`**: The number of dimensions (axes) of the array.\n",
    "* **`shape`**: A tuple indicating the size of the array in each dimension.\n",
    "* **`size`**: The total number of elements in the array.\n",
    "* **`dtype`**: The data type of the array's elements."
   ]
  },
  {
   "cell_type": "code",
   "execution_count": 5,
   "id": "d1995167",
   "metadata": {},
   "outputs": [],
   "source": [
    "array = np.array([[1, 2, 3], [4, 5, 6]])\n",
    "\n",
    "# Number of dimensions\n",
    "num_dimensions = array.ndim\n",
    "\n",
    "# Shape of the array\n",
    "array_shape = array.shape\n",
    "\n",
    "# Total number of elements\n",
    "total_elements = array.size\n",
    "\n",
    "# Data type of elements\n",
    "data_type = array.dtype"
   ]
  },
  {
   "cell_type": "markdown",
   "id": "a0bcf1f9",
   "metadata": {},
   "source": [
    "In the code above, you can inspect these attributes to understand the array's properties, which is particularly useful when debugging or performing operations that require arrays of specific shapes and types.\n"
   ]
  },
  {
   "cell_type": "markdown",
   "id": "be407b2a",
   "metadata": {},
   "source": [
    "<a name=\"generating-arrays\"></a>\n",
    "\n",
    "## Generating Arrays Using NumPy Functions\n",
    "\n",
    "NumPy provides several functions to create arrays with specific patterns or values, which can be highly efficient for initializing arrays without manually specifying each element.\n",
    "\n",
    "<a name=\"arrays-of-zeros\"></a>\n",
    "\n",
    "### Arrays of Zeros\n",
    "\n",
    "To create an array filled entirely with zeros, you can use the `np.zeros()` function. This is often used as a starting point in algorithms where you need a placeholder array."
   ]
  },
  {
   "cell_type": "code",
   "execution_count": 6,
   "id": "00f1f28a",
   "metadata": {},
   "outputs": [],
   "source": [
    "# Creating a 1D array of zeros with 5 elements\n",
    "zeros_1d = np.zeros(5)\n",
    "\n",
    "# Creating a 2D array of zeros with 3 rows and 4 columns\n",
    "zeros_2d = np.zeros((3, 4))"
   ]
  },
  {
   "cell_type": "markdown",
   "id": "e940e11d",
   "metadata": {},
   "source": [
    "In these examples, `zeros_1d` is a one-dimensional array of five zeros, and `zeros_2d` is a two-dimensional array with three rows and four columns, all initialized to zero.\n",
    "\n",
    "<a name=\"arrays-of-ones\"></a>\n",
    "\n",
    "### Arrays of Ones\n",
    "\n",
    "Similarly, you can create an array filled with ones using the `np.ones()` function. This is useful in situations where you need an array initialized with ones, such as in certain normalization processes."
   ]
  },
  {
   "cell_type": "code",
   "execution_count": 7,
   "id": "181891a0",
   "metadata": {},
   "outputs": [],
   "source": [
    "# Creating a 1D array of ones with 5 elements\n",
    "ones_1d = np.ones(5)\n",
    "\n",
    "# Creating a 2D array of ones with 2 rows and 3 columns\n",
    "ones_2d = np.ones((2, 3))"
   ]
  },
  {
   "cell_type": "markdown",
   "id": "c686280c",
   "metadata": {},
   "source": [
    "These arrays, `ones_1d` and `ones_2d`, can serve as initial matrices or vectors in various mathematical computations.\n",
    "\n",
    "<a name=\"constant-arrays\"></a>\n",
    "\n",
    "### Constant Arrays\n",
    "\n",
    "If you need an array filled with a specific constant value, you can use the `np.full()` function. This is particularly handy when a particular value is required for initialization."
   ]
  },
  {
   "cell_type": "code",
   "execution_count": 8,
   "id": "71635e63",
   "metadata": {},
   "outputs": [],
   "source": [
    "# Creating a 2D array filled with the value 7\n",
    "constant_array = np.full((3, 3), 7)"
   ]
  },
  {
   "cell_type": "markdown",
   "id": "e86ad383",
   "metadata": {},
   "source": [
    "In this example, `constant_array` is a 3x3 matrix where every element is the integer 7.\n",
    "\n",
    "<a name=\"identity-eye-arrays\"></a>\n",
    "\n",
    "### Identity and Eye Arrays\n",
    "\n",
    "Identity matrices are square matrices with ones on the main diagonal and zeros elsewhere. NumPy provides two functions to create such matrices:\n",
    "\n",
    "* **`np.identity(n)`**: Creates an n x n identity matrix.\n",
    "* **`np.eye(N, M=None, k=0)`**: Creates a 2-D array with ones on the k-th diagonal."
   ]
  },
  {
   "cell_type": "code",
   "execution_count": 9,
   "id": "84dd42b1",
   "metadata": {},
   "outputs": [],
   "source": [
    "# Creating a 4x4 identity matrix using np.identity()\n",
    "identity_matrix = np.identity(4)\n",
    "\n",
    "# Creating a 4x4 identity matrix using np.eye()\n",
    "eye_matrix = np.eye(4)"
   ]
  },
  {
   "cell_type": "markdown",
   "id": "901a3144",
   "metadata": {},
   "source": [
    "Both `identity_matrix` and `eye_matrix` are 4x4 matrices with ones on the diagonal from the top-left to the bottom-right corner.\n",
    "\n",
    "You can also multiply the identity matrix by a scalar to adjust the values along the diagonal:"
   ]
  },
  {
   "cell_type": "code",
   "execution_count": 10,
   "id": "1b7ae1b8",
   "metadata": {},
   "outputs": [],
   "source": [
    "# Scaling the identity matrix by 5\n",
    "scaled_identity = np.eye(4) * 5"
   ]
  },
  {
   "cell_type": "markdown",
   "id": "c3b3855c",
   "metadata": {},
   "source": [
    "Here, `scaled_identity` is an identity matrix with the diagonal elements scaled by 5, resulting in a matrix with fives on the diagonal and zeros elsewhere.\n",
    "\n",
    "<a name=\"range-arrays\"></a>\n",
    "\n",
    "### Arrays with a Range of Values\n",
    "\n",
    "NumPy offers functions to create arrays with sequences of numbers, which is useful for generating indices or ranges of values for calculations.\n",
    "\n",
    "<a name=\"arange\"></a>\n",
    "\n",
    "#### Using `arange()`\n",
    "\n",
    "The `np.arange()` function creates an array with evenly spaced values within a specified interval. It works similarly to Python's built-in `range()` function but returns a NumPy array."
   ]
  },
  {
   "cell_type": "code",
   "execution_count": 11,
   "id": "0686c71e",
   "metadata": {},
   "outputs": [],
   "source": [
    "# Creating an array from 0 to 9\n",
    "range_array = np.arange(10)\n",
    "\n",
    "# Creating an array from 5 to 50 with a step of 5\n",
    "step_array = np.arange(5, 55, 5)"
   ]
  },
  {
   "cell_type": "markdown",
   "id": "79e2163a",
   "metadata": {},
   "source": [
    "In the first example, `range_array` contains numbers from 0 to 9. In the second example, `step_array` contains numbers from 5 to 50 in increments of 5.\n",
    "\n",
    "<a name=\"linspace\"></a>\n",
    "\n",
    "#### Using `linspace()`\n",
    "\n",
    "The `np.linspace()` function generates a specified number of evenly spaced values over a given interval. This is particularly useful in scientific computations where you need to sample a function at evenly spaced points."
   ]
  },
  {
   "cell_type": "code",
   "execution_count": 12,
   "id": "3aa0489b",
   "metadata": {},
   "outputs": [],
   "source": [
    "# Generating 5 numbers between 0 and 1\n",
    "linspace_array = np.linspace(0, 1, 5)\n",
    "\n",
    "# Generating 10 numbers between 0 and 100\n",
    "linspace_array_10 = np.linspace(0, 100, 10)"
   ]
  },
  {
   "cell_type": "markdown",
   "id": "fcf9e605",
   "metadata": {},
   "source": [
    "Here, `linspace_array` creates an array of five numbers evenly spaced between 0 and 1, while `linspace_array_10` creates an array of ten numbers evenly spaced between 0 and 100.\n",
    "\n",
    "<a name=\"random-arrays\"></a>\n",
    "\n",
    "## Random Arrays\n",
    "\n",
    "NumPy's random module allows you to generate arrays with random numbers, which can be useful for simulations, random sampling, and initializing algorithms.\n",
    "\n",
    "* **`np.random.rand()`**: Generates an array of the given shape with random samples from a uniform distribution over `[0, 1)`.\n",
    "* **`np.random.randn()`**: Generates samples from the standard normal distribution (mean 0, variance 1).\n",
    "* **`np.random.randint()`**: Generates random integers between a low (inclusive) and high (exclusive) value."
   ]
  },
  {
   "cell_type": "code",
   "execution_count": 13,
   "id": "7c92b277",
   "metadata": {},
   "outputs": [],
   "source": [
    "# Generating a 1D array of 5 random floats between 0 and 1\n",
    "random_array = np.random.rand(5)\n",
    "\n",
    "# Generating a 2D array of random floats between 0 and 1\n",
    "random_array_2d = np.random.rand(3, 4)\n",
    "\n",
    "# Generating a 1D array of 5 random integers between 10 and 50\n",
    "random_int_array = np.random.randint(10, 50, 5)"
   ]
  },
  {
   "cell_type": "markdown",
   "id": "03a7b606",
   "metadata": {},
   "source": [
    "Each time you run these functions, they produce different random values. If you need reproducible results, you can set the random seed using `np.random.seed()`."
   ]
  },
  {
   "cell_type": "code",
   "execution_count": 14,
   "id": "ce3cd984",
   "metadata": {},
   "outputs": [],
   "source": [
    "# Setting the seed for reproducibility\n",
    "np.random.seed(42)\n",
    "\n",
    "# Generating random numbers after setting the seed\n",
    "seeded_random_array = np.random.rand(5)"
   ]
  },
  {
   "cell_type": "markdown",
   "id": "6684784d",
   "metadata": {},
   "source": [
    "By setting the seed, you ensure that the random numbers generated are the same every time you run the code, which is essential for debugging and consistent results in experiments.\n"
   ]
  },
  {
   "cell_type": "markdown",
   "id": "f21b7d3e",
   "metadata": {},
   "source": [
    "<a name=\"reshaping-arrays\"></a>"
   ]
  }
 ],
 "metadata": {
  "jupytext": {
   "cell_metadata_filter": "-all",
   "main_language": "python",
   "notebook_metadata_filter": "-all"
  },
  "kernelspec": {
   "display_name": "py310",
   "language": "python",
   "name": "python3"
  },
  "language_info": {
   "codemirror_mode": {
    "name": "ipython",
    "version": 3
   },
   "file_extension": ".py",
   "mimetype": "text/x-python",
   "name": "python",
   "nbconvert_exporter": "python",
   "pygments_lexer": "ipython3",
   "version": "3.10.14"
  }
 },
 "nbformat": 4,
 "nbformat_minor": 5
}
