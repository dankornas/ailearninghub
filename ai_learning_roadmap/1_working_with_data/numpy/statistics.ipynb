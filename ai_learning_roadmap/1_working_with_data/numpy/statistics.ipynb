{
 "cells": [
  {
   "cell_type": "markdown",
   "id": "3a9d6c2e",
   "metadata": {},
   "source": [
    "# NumPy Basics: Statistical Functions\n",
    "\n",
    "NumPy provides a comprehensive suite of statistical functions that operate on arrays and matrices, allowing you to compute descriptive statistics, assess data distributions, and perform more complex analyses like correlation and covariance.\n"
   ]
  },
  {
   "cell_type": "markdown",
   "id": "d6ebcc82",
   "metadata": {},
   "source": [
    "<a name=\"importing-numpy\"></a>\n",
    "\n",
    "## Importing NumPy\n",
    "\n",
    "Before you begin working with NumPy's statistical functions, you need to import the library. It's a common practice to import NumPy using the alias `np` for convenience."
   ]
  },
  {
   "cell_type": "code",
   "execution_count": null,
   "id": "24964071",
   "metadata": {},
   "outputs": [],
   "source": [
    "import numpy as np"
   ]
  },
  {
   "cell_type": "markdown",
   "id": "be78a3b2",
   "metadata": {},
   "source": [
    "This line of code imports the NumPy library and allows you to access its functions using the `np` prefix.\n"
   ]
  },
  {
   "cell_type": "markdown",
   "id": "e511314c",
   "metadata": {},
   "source": [
    "<a name=\"creating-dataset\"></a>\n",
    "\n",
    "## Creating a Sample Dataset\n",
    "\n",
    "For demonstration purposes, let's create a sample NumPy array to work with. This array will simulate a dataset of numerical values."
   ]
  },
  {
   "cell_type": "code",
   "execution_count": null,
   "id": "f2ebb777",
   "metadata": {},
   "outputs": [],
   "source": [
    "# Creating a sample dataset\n",
    "data = np.array([15, 20, 35, 40, 50, 65, 75, 80, 95])"
   ]
  },
  {
   "cell_type": "markdown",
   "id": "098f4074",
   "metadata": {},
   "source": [
    "This array `data` contains nine numerical values. We'll use this dataset to explore various statistical functions provided by NumPy.\n"
   ]
  },
  {
   "cell_type": "markdown",
   "id": "9235615a",
   "metadata": {},
   "source": [
    "<a name=\"basic-statistics\"></a>\n",
    "\n",
    "## Basic Statistical Functions\n",
    "\n",
    "NumPy offers basic statistical functions that compute simple statistics like mean, median, sum, minimum, maximum, standard deviation, and variance.\n",
    "\n",
    "<a name=\"mean\"></a>\n",
    "\n",
    "### Mean (`np.mean`)\n",
    "\n",
    "The mean (average) is a measure of the central tendency of a dataset. You can calculate the mean of an array using the `np.mean()` function."
   ]
  },
  {
   "cell_type": "code",
   "execution_count": null,
   "id": "3c2b50ac",
   "metadata": {},
   "outputs": [],
   "source": [
    "# Calculating the mean of the dataset\n",
    "mean_value = np.mean(data)"
   ]
  },
  {
   "cell_type": "markdown",
   "id": "1ca29bf5",
   "metadata": {},
   "source": [
    "In this code, `mean_value` will store the average of all elements in the `data` array.\n",
    "\n",
    "<a name=\"median\"></a>\n",
    "\n",
    "### Median (`np.median`)\n",
    "\n",
    "The median is the middle value of a sorted dataset. If the dataset has an even number of elements, the median is the average of the two middle numbers."
   ]
  },
  {
   "cell_type": "code",
   "execution_count": null,
   "id": "cb076169",
   "metadata": {},
   "outputs": [],
   "source": [
    "# Calculating the median of the dataset\n",
    "median_value = np.median(data)"
   ]
  },
  {
   "cell_type": "markdown",
   "id": "9d44830c",
   "metadata": {},
   "source": [
    "Here, `median_value` will contain the median of the `data` array.\n",
    "\n",
    "<a name=\"sum\"></a>\n",
    "\n",
    "### Sum (`np.sum`)\n",
    "\n",
    "The sum function computes the total of all elements in the array."
   ]
  },
  {
   "cell_type": "code",
   "execution_count": null,
   "id": "1316f0e2",
   "metadata": {},
   "outputs": [],
   "source": [
    "# Calculating the sum of the dataset\n",
    "sum_value = np.sum(data)"
   ]
  },
  {
   "cell_type": "markdown",
   "id": "0ce91e0e",
   "metadata": {},
   "source": [
    "`sum_value` will be the sum of all numbers in the `data` array.\n",
    "\n",
    "<a name=\"min-max\"></a>\n",
    "\n",
    "### Min and Max (`np.min`, `np.max`)\n",
    "\n",
    "The `np.min()` and `np.max()` functions find the minimum and maximum values in the array, respectively."
   ]
  },
  {
   "cell_type": "code",
   "execution_count": null,
   "id": "0c183a8c",
   "metadata": {},
   "outputs": [],
   "source": [
    "# Finding the minimum value in the dataset\n",
    "min_value = np.min(data)\n",
    "\n",
    "# Finding the maximum value in the dataset\n",
    "max_value = np.max(data)"
   ]
  },
  {
   "cell_type": "markdown",
   "id": "2600aeff",
   "metadata": {},
   "source": [
    "`min_value` and `max_value` will hold the smallest and largest numbers in the `data` array.\n",
    "\n",
    "<a name=\"std-var\"></a>\n",
    "\n",
    "### Standard Deviation and Variance (`np.std`, `np.var`)\n",
    "\n",
    "The standard deviation measures the amount of variation or dispersion in a dataset. The variance is the square of the standard deviation."
   ]
  },
  {
   "cell_type": "code",
   "execution_count": null,
   "id": "d3b4da58",
   "metadata": {},
   "outputs": [],
   "source": [
    "# Calculating the standard deviation of the dataset\n",
    "std_deviation = np.std(data)\n",
    "\n",
    "# Calculating the variance of the dataset\n",
    "variance = np.var(data)"
   ]
  },
  {
   "cell_type": "markdown",
   "id": "58d91fb9",
   "metadata": {},
   "source": [
    "`std_deviation` will store the standard deviation, and `variance` will store the variance of the `data` array.\n"
   ]
  },
  {
   "cell_type": "markdown",
   "id": "9b02988c",
   "metadata": {},
   "source": [
    "<a name=\"advanced-statistics\"></a>\n",
    "\n",
    "## Advanced Statistical Functions\n",
    "\n",
    "Beyond basic statistics, NumPy provides functions for more advanced statistical analysis, such as calculating percentiles, correlation coefficients, and covariance matrices.\n",
    "\n",
    "<a name=\"percentiles\"></a>\n",
    "\n",
    "### Percentiles (`np.percentile`)\n",
    "\n",
    "Percentiles are used to understand the distribution of data. The nth percentile is the value below which n% of the data falls."
   ]
  },
  {
   "cell_type": "code",
   "execution_count": null,
   "id": "cffc7eb7",
   "metadata": {},
   "outputs": [],
   "source": [
    "# Calculating the 25th, 50th, and 75th percentiles\n",
    "percentile_25 = np.percentile(data, 25)\n",
    "percentile_50 = np.percentile(data, 50)  # Equivalent to the median\n",
    "percentile_75 = np.percentile(data, 75)"
   ]
  },
  {
   "cell_type": "markdown",
   "id": "611b838e",
   "metadata": {},
   "source": [
    "In this code, `percentile_25`, `percentile_50`, and `percentile_75` represent the first quartile, median, and third quartile of the dataset.\n",
    "\n",
    "<a name=\"correlation-coefficient\"></a>\n",
    "\n",
    "### Correlation Coefficient (`np.corrcoef`)\n",
    "\n",
    "The correlation coefficient measures the linear relationship between two datasets. It returns a matrix of correlation coefficients between each pair of datasets."
   ]
  },
  {
   "cell_type": "code",
   "execution_count": null,
   "id": "44175671",
   "metadata": {},
   "outputs": [],
   "source": [
    "# Creating two datasets\n",
    "data_x = np.array([1, 2, 3, 4, 5])\n",
    "data_y = np.array([2, 4, 6, 8, 10])\n",
    "\n",
    "# Calculating the correlation coefficient matrix\n",
    "correlation_matrix = np.corrcoef(data_x, data_y)"
   ]
  },
  {
   "cell_type": "markdown",
   "id": "779c9217",
   "metadata": {},
   "source": [
    "Here, `data_x` and `data_y` are two datasets. The `np.corrcoef()` function returns a 2x2 matrix where the off-diagonal elements represent the correlation coefficient between `data_x` and `data_y`.\n",
    "\n",
    "<a name=\"covariance\"></a>\n",
    "\n",
    "### Covariance Matrix (`np.cov`)\n",
    "\n",
    "Covariance indicates the level to which two variables vary together. The covariance matrix shows the covariance between each pair of variables."
   ]
  },
  {
   "cell_type": "code",
   "execution_count": null,
   "id": "42b68ec9",
   "metadata": {},
   "outputs": [],
   "source": [
    "# Calculating the covariance matrix\n",
    "covariance_matrix = np.cov(data_x, data_y)"
   ]
  },
  {
   "cell_type": "markdown",
   "id": "c690cf86",
   "metadata": {},
   "source": [
    "`covariance_matrix` will be a 2x2 matrix showing the covariance between `data_x` and `data_y`.\n"
   ]
  },
  {
   "cell_type": "markdown",
   "id": "609812b5",
   "metadata": {},
   "source": [
    "<a name=\"axis-parameter\"></a>\n",
    "\n",
    "## Using the `axis` Parameter\n",
    "\n",
    "Many statistical functions in NumPy accept an `axis` parameter, which specifies the axis along which to perform the computation.\n",
    "\n",
    "* **`axis=0`**: Compute along the columns (downward).\n",
    "* **`axis=1`**: Compute along the rows (across).\n",
    "\n",
    "Consider a 2D array for demonstration:"
   ]
  },
  {
   "cell_type": "code",
   "execution_count": null,
   "id": "2445616d",
   "metadata": {},
   "outputs": [],
   "source": [
    "# Creating a 2D array\n",
    "array_2d = np.array([\n",
    "    [10, 15, 20],\n",
    "    [25, 30, 35],\n",
    "    [40, 45, 50]\n",
    "])"
   ]
  },
  {
   "cell_type": "markdown",
   "id": "575c917a",
   "metadata": {},
   "source": [
    "### Computing Along Columns"
   ]
  },
  {
   "cell_type": "code",
   "execution_count": null,
   "id": "bb8a27a9",
   "metadata": {},
   "outputs": [],
   "source": [
    "# Calculating the mean along columns\n",
    "mean_columns = np.mean(array_2d, axis=0)"
   ]
  },
  {
   "cell_type": "markdown",
   "id": "11f64a92",
   "metadata": {},
   "source": [
    "In this code, `mean_columns` will contain the mean of each column.\n",
    "\n",
    "### Computing Along Rows"
   ]
  },
  {
   "cell_type": "code",
   "execution_count": null,
   "id": "d1229337",
   "metadata": {},
   "outputs": [],
   "source": [
    "# Calculating the mean along rows\n",
    "mean_rows = np.mean(array_2d, axis=1)"
   ]
  },
  {
   "cell_type": "markdown",
   "id": "1090ba65",
   "metadata": {},
   "source": [
    "Here, `mean_rows` will contain the mean of each row.\n"
   ]
  },
  {
   "cell_type": "markdown",
   "id": "ec9fa9d9",
   "metadata": {},
   "source": [
    "<a name=\"multidimensional-arrays\"></a>\n",
    "\n",
    "## Statistical Functions on Multidimensional Arrays\n",
    "\n",
    "NumPy's statistical functions can operate on multidimensional arrays. Let's explore how to apply these functions to 3D arrays."
   ]
  },
  {
   "cell_type": "code",
   "execution_count": null,
   "id": "d83cf50f",
   "metadata": {},
   "outputs": [],
   "source": [
    "# Creating a 3D array\n",
    "array_3d = np.array([\n",
    "    [\n",
    "        [1, 2, 3],\n",
    "        [4, 5, 6]\n",
    "    ],\n",
    "    [\n",
    "        [7, 8, 9],\n",
    "        [10, 11, 12]\n",
    "    ]\n",
    "])"
   ]
  },
  {
   "cell_type": "markdown",
   "id": "2ebeffda",
   "metadata": {},
   "source": [
    "### Calculating the Overall Mean"
   ]
  },
  {
   "cell_type": "code",
   "execution_count": null,
   "id": "530a33c1",
   "metadata": {},
   "outputs": [],
   "source": [
    "# Calculating the overall mean of the 3D array\n",
    "overall_mean = np.mean(array_3d)"
   ]
  },
  {
   "cell_type": "markdown",
   "id": "d9bedec1",
   "metadata": {},
   "source": [
    "This computes the mean of all elements in the `array_3d`.\n",
    "\n",
    "### Calculating the Mean Along Specific Axes\n",
    "\n",
    "* **Mean along axis 0**:\n",
    "    \n",
    "    ```python\n",
    "    # Mean along axis 0\n",
    "    mean_axis0 = np.mean(array_3d, axis=0)\n",
    "    ```\n",
    "    \n",
    "    This computes the mean between the two 2D arrays in `array_3d`.\n",
    "    \n",
    "* **Mean along axis 1**:\n",
    "    \n",
    "    ```python\n",
    "    # Mean along axis 1\n",
    "    mean_axis1 = np.mean(array_3d, axis=1)\n",
    "    ```\n",
    "    \n",
    "    This computes the mean along the columns of each 2D array.\n",
    "    \n",
    "* **Mean along axis 2**:\n",
    "    \n",
    "    ```python\n",
    "    # Mean along axis 2\n",
    "    mean_axis2 = np.mean(array_3d, axis=2)\n",
    "    ```\n",
    "    \n",
    "    This computes the mean along the rows of each 2D array.\n",
    "    "
   ]
  }
 ],
 "metadata": {
  "jupytext": {
   "cell_metadata_filter": "-all",
   "main_language": "python",
   "notebook_metadata_filter": "-all"
  },
  "language_info": {
   "name": "python"
  }
 },
 "nbformat": 4,
 "nbformat_minor": 5
}
