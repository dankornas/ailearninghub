{
 "cells": [
  {
   "cell_type": "markdown",
   "id": "8c9bebf9",
   "metadata": {},
   "source": [
    "# NumPy Indexing and Slicing Arrays\n",
    "\n",
    "NumPy arrays (`ndarray`) are grid-like structures that can store data of the same type. They are similar to Python lists but offer faster computation and more efficient storage. Indexing and slicing are crucial for accessing and manipulating data within these arrays.\n",
    "\n",
    "<a name=\"importing-numpy\"></a>\n",
    "\n",
    "## Importing NumPy\n",
    "\n",
    "Before we begin, we need to import the NumPy library. It's a common practice to import NumPy using the alias `np`."
   ]
  },
  {
   "cell_type": "code",
   "execution_count": 2,
   "id": "94871b37",
   "metadata": {},
   "outputs": [],
   "source": [
    "import numpy as np"
   ]
  },
  {
   "cell_type": "markdown",
   "id": "655a9b7a",
   "metadata": {},
   "source": [
    "This line imports the NumPy library and allows you to access its functions using the `np` prefix.\n"
   ]
  },
  {
   "cell_type": "markdown",
   "id": "65fd89d9",
   "metadata": {},
   "source": [
    "<a name=\"1d-indexing-slicing\"></a>\n",
    "\n",
    "## 1D Array Indexing and Slicing\n",
    "\n",
    "One-dimensional (1D) arrays are the simplest form of NumPy arrays, similar to vectors. Indexing and slicing in 1D arrays work much like in standard Python lists.\n",
    "\n",
    "<a name=\"1d-indexing\"></a>\n",
    "\n",
    "### Indexing Individual Elements\n",
    "\n",
    "To access individual elements in a 1D array, you use square brackets `[]` with the index of the element. Remember that indexing starts at 0."
   ]
  },
  {
   "cell_type": "code",
   "execution_count": 3,
   "id": "5a078e19",
   "metadata": {},
   "outputs": [],
   "source": [
    "# Creating a 1D NumPy array\n",
    "array_1d = np.array([10, 20, 30, 40, 50])\n",
    "\n",
    "# Accessing the second element (index 1)\n",
    "second_element = array_1d[1]\n",
    "\n",
    "# Accessing the last element using negative indexing\n",
    "last_element = array_1d[-1]"
   ]
  },
  {
   "cell_type": "markdown",
   "id": "087e95ea",
   "metadata": {},
   "source": [
    "In the code above:\n",
    "\n",
    "* `array_1d[1]` accesses the second element, which is `20`.\n",
    "* `array_1d[-1]` accesses the last element, which is `50`.\n",
    "\n",
    "<a name=\"1d-slicing\"></a>\n",
    "\n",
    "### Slicing Arrays\n",
    "\n",
    "Slicing allows you to access a range of elements in an array. The syntax for slicing is `array[start:stop:step]`."
   ]
  },
  {
   "cell_type": "code",
   "execution_count": 15,
   "id": "de004458",
   "metadata": {},
   "outputs": [
    {
     "name": "stdout",
     "output_type": "stream",
     "text": [
      "[20 30]\n",
      "[10 30 50]\n"
     ]
    }
   ],
   "source": [
    "# Slicing elements from index 1 to 3 (exclusive)\n",
    "slice_1 = array_1d[1:3]\n",
    "print(slice_1)\n",
    "# Slicing elements from the beginning to index 3\n",
    "slice_2 = array_1d[:3]\n",
    "\n",
    "# Slicing elements from index 2 to the end\n",
    "slice_3 = array_1d[2:]\n",
    "\n",
    "# Slicing every other element in the array\n",
    "slice_4 = array_1d[::2]\n",
    "print(slice_4)"
   ]
  },
  {
   "cell_type": "markdown",
   "id": "d351d7be",
   "metadata": {},
   "source": [
    "In these examples:\n",
    "\n",
    "* `slice_1` contains elements at indices 1 and 2 (`20` and `30`).\n",
    "* `slice_2` contains elements at indices 0 to 2.\n",
    "* `slice_3` contains elements from index 2 to the end.\n",
    "* `slice_4` contains every second element (`10`, `30`, `50`).\n"
   ]
  },
  {
   "cell_type": "markdown",
   "id": "d4be6981",
   "metadata": {},
   "source": [
    "<a name=\"2d-indexing-slicing\"></a>\n",
    "\n",
    "## 2D Array Indexing and Slicing\n",
    "\n",
    "Two-dimensional (2D) arrays are like matrices. Indexing and slicing in 2D arrays involve specifying row and column indices.\n",
    "\n",
    "<a name=\"2d-indexing\"></a>\n",
    "\n",
    "### Indexing Individual Elements\n",
    "\n",
    "To access an element in a 2D array, you provide two indices: one for the row and one for the column."
   ]
  },
  {
   "cell_type": "code",
   "execution_count": 16,
   "id": "bb0bd1d3",
   "metadata": {},
   "outputs": [
    {
     "name": "stdout",
     "output_type": "stream",
     "text": [
      "6\n"
     ]
    }
   ],
   "source": [
    "# Creating a 2D NumPy array\n",
    "array_2d = np.array([\n",
    "    [1, 2, 3],    # Row 0\n",
    "    [4, 5, 6],    # Row 1\n",
    "    [7, 8, 9]     # Row 2\n",
    "])\n",
    "\n",
    "# Accessing the element at row 1, column 2\n",
    "element = array_2d[1][2]\n",
    "print(element)\n",
    "# Alternatively, using comma-separated indices\n",
    "element_alt = array_2d[1, 2]"
   ]
  },
  {
   "cell_type": "markdown",
   "id": "35472541",
   "metadata": {},
   "source": [
    "Here:\n",
    "\n",
    "* `array_2d[1][2]` and `array_2d[1, 2]` both access the element `6` at row 1, column 2.\n",
    "\n",
    "<a name=\"2d-slicing\"></a>\n",
    "\n",
    "### Slicing Rows and Columns\n",
    "\n",
    "You can slice subsets of a 2D array by specifying ranges for rows and columns."
   ]
  },
  {
   "cell_type": "code",
   "execution_count": 6,
   "id": "a3e5538b",
   "metadata": {},
   "outputs": [],
   "source": [
    "# Selecting the first two rows\n",
    "rows_slice = array_2d[:2, :]\n",
    "\n",
    "# Selecting the first two columns\n",
    "columns_slice = array_2d[:, :2]\n",
    "\n",
    "# Selecting a subarray from rows 0-1 and columns 1-2\n",
    "subarray = array_2d[0:2, 1:3]"
   ]
  },
  {
   "cell_type": "markdown",
   "id": "fa68212d",
   "metadata": {},
   "source": [
    "In these examples:\n",
    "\n",
    "* `rows_slice` contains all columns from rows 0 and 1.\n",
    "* `columns_slice` contains all rows from columns 0 and 1.\n",
    "* `subarray` is a 2x2 array containing elements from rows 0-1 and columns 1-2.\n",
    "\n",
    "**Explanation of the slicing syntax:**\n",
    "\n",
    "* `array_2d[start_row:end_row, start_col:end_col]`\n",
    "* If `start` or `end` is omitted, it defaults to the beginning or end of that dimension.\n",
    "* The `:` operator indicates the entire range in that dimension.\n",
    "\n",
    "**Examples:**\n",
    "\n",
    "* `array_2d[1, :]` selects all columns in row 1.\n",
    "* `array_2d[:, 2]` selects all rows in column 2.\n",
    "* `array_2d[1:, 1:]` selects rows 1 to the end and columns 1 to the end.\n"
   ]
  },
  {
   "cell_type": "markdown",
   "id": "9a79c3e0",
   "metadata": {},
   "source": [
    "<a name=\"higher-dimensional-arrays\"></a>\n",
    "\n",
    "## Higher-Dimensional Arrays\n",
    "\n",
    "NumPy arrays can have more than two dimensions. The indexing and slicing principles extend naturally to higher dimensions."
   ]
  },
  {
   "cell_type": "code",
   "execution_count": 18,
   "id": "951f13e1",
   "metadata": {},
   "outputs": [
    {
     "name": "stdout",
     "output_type": "stream",
     "text": [
      "[[[ 1  2  3]\n",
      "  [ 4  5  6]]\n",
      "\n",
      " [[ 7  8  9]\n",
      "  [10 11 12]]]\n",
      "9\n"
     ]
    }
   ],
   "source": [
    "# Creating a 3D NumPy array\n",
    "array_3d = np.array([\n",
    "    [  # Depth 0\n",
    "        [1, 2, 3],   # Row 0\n",
    "        [4, 5, 6]    # Row 1\n",
    "    ],\n",
    "    [  # Depth 1\n",
    "        [7, 8, 9],   # Row 0\n",
    "        [10, 11, 12] # Row 1\n",
    "    ]\n",
    "])\n",
    "print(array_3d)\n",
    "# Accessing an element at depth 1, row 0, column 2\n",
    "element = array_3d[1][0][2]\n",
    "print(element)\n",
    "# Alternatively, using comma-separated indices\n",
    "element_alt = array_3d[1, 0, 2]"
   ]
  },
  {
   "cell_type": "markdown",
   "id": "ba4ca404",
   "metadata": {},
   "source": [
    "Here, `element` and `element_alt` both access the value `9` at the specified indices.\n",
    "\n",
    "Slicing in higher dimensions follows the same pattern:"
   ]
  },
  {
   "cell_type": "code",
   "execution_count": 8,
   "id": "705ccdaf",
   "metadata": {
    "lines_to_next_cell": 0
   },
   "outputs": [],
   "source": [
    "# Slicing the first layer (depth 0)\n",
    "layer = array_3d[0, :, :]\n",
    "\n",
    "# Slicing all depths, row 1, columns 0-1\n",
    "slice_3d = array_3d[:, 1, :2]"
   ]
  },
  {
   "cell_type": "markdown",
   "id": "27d5c4c4",
   "metadata": {},
   "source": []
  },
  {
   "cell_type": "markdown",
   "id": "7ebcf28f",
   "metadata": {},
   "source": [
    "<a name=\"conditional-selection\"></a>\n",
    "\n",
    "## Conditional Selection\n",
    "\n",
    "Conditional selection allows you to select elements based on conditions rather than explicit indices. This is powerful for data analysis and preprocessing.\n",
    "\n",
    "<a name=\"comparison-operators\"></a>\n",
    "\n",
    "### Using Comparison Operators\n",
    "\n",
    "You can use comparison operators to create boolean arrays, which can then be used to index the array."
   ]
  },
  {
   "cell_type": "code",
   "execution_count": 19,
   "id": "5a2e5fb7",
   "metadata": {},
   "outputs": [
    {
     "name": "stdout",
     "output_type": "stream",
     "text": [
      "[1 2 3 4]\n"
     ]
    }
   ],
   "source": [
    "# Creating an array for demonstration\n",
    "arr = np.array([1, 2, 3, 4, 5, 6, 7, 8, 9])\n",
    "\n",
    "# Selecting elements less than 5\n",
    "less_than_five = arr[arr < 5]\n",
    "print(less_than_five)\n",
    "# Selecting elements greater than or equal to 7\n",
    "greater_or_equal_seven = arr[arr >= 7]"
   ]
  },
  {
   "cell_type": "markdown",
   "id": "cc531738",
   "metadata": {},
   "source": [
    "In these examples:\n",
    "\n",
    "* `arr < 5` produces a boolean array where elements less than 5 are `True`.\n",
    "* `less_than_five` contains the elements where the condition is `True`.\n",
    "\n",
    "<a name=\"combining-conditions\"></a>\n",
    "\n",
    "### Combining Conditions\n",
    "\n",
    "You can combine multiple conditions using logical operators such as `&` (and), `|` (or), and `~` (not)."
   ]
  },
  {
   "cell_type": "code",
   "execution_count": 10,
   "id": "5c35a7e3",
   "metadata": {},
   "outputs": [],
   "source": [
    "# Selecting even numbers\n",
    "even_numbers = arr[arr % 2 == 0]\n",
    "\n",
    "# Selecting odd numbers greater than 5\n",
    "odd_numbers_gt_five = arr[(arr % 2 != 0) & (arr > 5)]\n",
    "\n",
    "# Selecting numbers less than 3 or greater than 7\n",
    "lt_three_or_gt_seven = arr[(arr < 3) | (arr > 7)]"
   ]
  },
  {
   "cell_type": "markdown",
   "id": "443dcb0d",
   "metadata": {},
   "source": [
    "**Note:** When combining conditions:\n",
    "\n",
    "* Enclose each condition in parentheses.\n",
    "* Use `&` for logical AND.\n",
    "* Use `|` for logical OR.\n",
    "* Use `~` to negate a condition.\n",
    "\n",
    "<a name=\"boolean-indexing\"></a>\n",
    "\n",
    "### Boolean Indexing\n",
    "\n",
    "You can create a boolean array and use it to index your array."
   ]
  },
  {
   "cell_type": "code",
   "execution_count": 11,
   "id": "9f9cac17",
   "metadata": {},
   "outputs": [],
   "source": [
    "# Creating a boolean array\n",
    "bool_array = arr > 5\n",
    "\n",
    "# Using the boolean array to index 'arr'\n",
    "selected_elements = arr[bool_array]"
   ]
  },
  {
   "cell_type": "markdown",
   "id": "6165b806",
   "metadata": {},
   "source": [
    "In this example:\n",
    "\n",
    "* `bool_array` is a boolean array where elements greater than 5 are `True`.\n",
    "* `selected_elements` contains elements from `arr` where `bool_array` is `True`.\n"
   ]
  },
  {
   "cell_type": "markdown",
   "id": "ca103859",
   "metadata": {},
   "source": [
    "<a name=\"advanced-indexing\"></a>\n",
    "\n",
    "## Advanced Indexing Techniques\n",
    "\n",
    "NumPy offers advanced indexing methods for more complex data selection.\n",
    "\n",
    "<a name=\"integer-array-indexing\"></a>\n",
    "\n",
    "### Integer Array Indexing\n",
    "\n",
    "You can use lists or arrays of integers to select multiple elements."
   ]
  },
  {
   "cell_type": "code",
   "execution_count": 20,
   "id": "11a80068",
   "metadata": {},
   "outputs": [
    {
     "name": "stdout",
     "output_type": "stream",
     "text": [
      "[20 40 50]\n"
     ]
    }
   ],
   "source": [
    "# Creating an array\n",
    "arr = np.array([10, 20, 30, 40, 50])\n",
    "\n",
    "# Selecting elements at indices 1, 3, and 4\n",
    "indices = [1, 3, 4]\n",
    "selected_elements = arr[indices]\n",
    "print(selected_elements)"
   ]
  },
  {
   "cell_type": "markdown",
   "id": "b439081a",
   "metadata": {},
   "source": [
    "Here, `selected_elements` contains elements at indices 1, 3, and 4.\n",
    "\n",
    "<a name=\"fancy-indexing\"></a>\n",
    "\n",
    "### Fancy Indexing\n",
    "\n",
    "Fancy indexing allows you to pass arrays of indices to select specific elements."
   ]
  },
  {
   "cell_type": "code",
   "execution_count": 13,
   "id": "9393691d",
   "metadata": {},
   "outputs": [],
   "source": [
    "# Creating a 2D array\n",
    "arr_2d = np.array([\n",
    "    [1, 2, 3],\n",
    "    [4, 5, 6],\n",
    "    [7, 8, 9]\n",
    "])\n",
    "\n",
    "# Selecting elements at (0,0), (1,1), and (2,2)\n",
    "row_indices = np.array([0, 1, 2])\n",
    "col_indices = np.array([0, 1, 2])\n",
    "diagonal_elements = arr_2d[row_indices, col_indices]"
   ]
  },
  {
   "cell_type": "markdown",
   "id": "1b81c5fe",
   "metadata": {},
   "source": [
    "In this example, `diagonal_elements` contains the elements `1`, `5`, and `9`.\n",
    "\n",
    "<a name=\"ellipsis-indexing\"></a>\n",
    "\n",
    "### Ellipsis (`...`) in Indexing\n",
    "\n",
    "The ellipsis `...` is used to represent as many colons as needed to produce a complete indexing tuple."
   ]
  },
  {
   "cell_type": "code",
   "execution_count": 22,
   "id": "537b4575",
   "metadata": {},
   "outputs": [
    {
     "data": {
      "text/plain": [
       "array([[0.67422635, 0.83676805, 0.55202531, 0.60142282],\n",
       "       [0.78950226, 0.5517025 , 0.35208583, 0.17114877],\n",
       "       [0.94841662, 0.99977504, 0.60292442, 0.15129033]])"
      ]
     },
     "execution_count": 22,
     "metadata": {},
     "output_type": "execute_result"
    }
   ],
   "source": [
    "# For a 3D array\n",
    "array_3d = np.random.rand(2, 3, 4)\n",
    "\n",
    "# Selecting all elements in the first dimension\n",
    "slice_ellipsis = array_3d[0, ...]\n"
   ]
  },
  {
   "cell_type": "markdown",
   "id": "7476ecd9",
   "metadata": {},
   "source": [
    "Here, `slice_ellipsis` selects all elements in depth 0 across all rows and columns."
   ]
  }
 ],
 "metadata": {
  "jupytext": {
   "cell_metadata_filter": "-all",
   "main_language": "python",
   "notebook_metadata_filter": "-all"
  },
  "kernelspec": {
   "display_name": "py310",
   "language": "python",
   "name": "python3"
  },
  "language_info": {
   "codemirror_mode": {
    "name": "ipython",
    "version": 3
   },
   "file_extension": ".py",
   "mimetype": "text/x-python",
   "name": "python",
   "nbconvert_exporter": "python",
   "pygments_lexer": "ipython3",
   "version": "3.10.14"
  }
 },
 "nbformat": 4,
 "nbformat_minor": 5
}
