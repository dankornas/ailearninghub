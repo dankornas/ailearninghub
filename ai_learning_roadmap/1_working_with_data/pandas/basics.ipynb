{
 "cells": [
  {
   "cell_type": "markdown",
   "id": "d355b0af",
   "metadata": {},
   "source": [
    "<iframe\n",
    "  style=\"width: 100%; aspect-ratio: 16 / 9;\"\n",
    "  src=\"https://www.youtube.com/embed/8gGNXQgCmIE\"\n",
    "  title=\"YouTube video player\"\n",
    "  frameborder=\"0\"\n",
    "  allow=\"accelerometer; autoplay; clipboard-write; encrypted-media; gyroscope; picture-in-picture; web-share\"\n",
    "  allowfullscreen>\n",
    "</iframe>"
   ]
  },
  {
   "cell_type": "markdown",
   "id": "711d8019",
   "metadata": {},
   "source": [
    "# Introduction to Pandas: Creating Series and DataFrames\n",
    "\n",
    "Pandas is a powerful Python library used for data manipulation and analysis. It provides two primary data structures: **Series** and **DataFrame**. Understanding how to create and manipulate these structures is essential for data analysis tasks.\n",
    "\n",
    "## Importing Pandas and NumPy\n",
    "\n",
    "Before we begin, we need to import the Pandas and NumPy libraries. NumPy is often used alongside Pandas for numerical operations."
   ]
  },
  {
   "cell_type": "code",
   "execution_count": null,
   "id": "effecc0d",
   "metadata": {
    "lines_to_next_cell": 0
   },
   "outputs": [],
   "source": [
    "import pandas as pd\n",
    "import numpy as np"
   ]
  },
  {
   "cell_type": "markdown",
   "id": "97b2d6d2",
   "metadata": {},
   "source": [
    "## Pandas Series\n",
    "\n",
    "A **Series** is a one-dimensional labeled array capable of holding any data type (integers, strings, floating-point numbers, Python objects, etc.). Each element in a Series has an associated label, known as its **index**.\n",
    "\n",
    "### Creating a Series from a List\n",
    "\n",
    "You can create a Series from a Python list by passing the list to the `pd.Series()` function."
   ]
  },
  {
   "cell_type": "code",
   "execution_count": null,
   "id": "445491d5",
   "metadata": {},
   "outputs": [],
   "source": [
    "# Create a list of temperatures in Celsius\n",
    "temperatures = [22, 28, 19, 24, 30]\n",
    "\n",
    "# Create a Series from the list\n",
    "temp_series = pd.Series(temperatures)"
   ]
  },
  {
   "cell_type": "markdown",
   "id": "fb673404",
   "metadata": {},
   "source": [
    "If you want to specify custom indices, you can provide them using the `index` parameter."
   ]
  },
  {
   "cell_type": "code",
   "execution_count": null,
   "id": "acc7ebbe",
   "metadata": {},
   "outputs": [],
   "source": [
    "# Days corresponding to the temperatures\n",
    "days = ['Monday', 'Tuesday', 'Wednesday', 'Thursday', 'Friday']\n",
    "\n",
    "# Create a Series with custom indices\n",
    "temp_series = pd.Series(temperatures, index=days)"
   ]
  },
  {
   "cell_type": "markdown",
   "id": "5f648b94",
   "metadata": {},
   "source": [
    "### Creating a Series from a Dictionary\n",
    "\n",
    "A Series can also be created from a dictionary. The keys become the indices, and the values become the data."
   ]
  },
  {
   "cell_type": "code",
   "execution_count": null,
   "id": "ae0891c9",
   "metadata": {},
   "outputs": [],
   "source": [
    "# Dictionary of fruit counts\n",
    "fruit_counts = {'Apples': 10, 'Bananas': 15, 'Cherries': 7}\n",
    "\n",
    "# Create a Series from the dictionary\n",
    "fruit_series = pd.Series(fruit_counts)"
   ]
  },
  {
   "cell_type": "markdown",
   "id": "6ad0cc5b",
   "metadata": {},
   "source": [
    "### Creating a Series from a NumPy Array\n",
    "\n",
    "You can create a Series from a NumPy array in a similar way."
   ]
  },
  {
   "cell_type": "code",
   "execution_count": null,
   "id": "6e62d08e",
   "metadata": {
    "lines_to_next_cell": 0
   },
   "outputs": [],
   "source": [
    "# NumPy array of random numbers\n",
    "random_numbers = np.random.randn(5)\n",
    "\n",
    "# Create a Series from the NumPy array\n",
    "random_series = pd.Series(random_numbers)"
   ]
  },
  {
   "cell_type": "markdown",
   "id": "a7ae1e42",
   "metadata": {},
   "source": [
    "## Pandas DataFrame\n",
    "\n",
    "A **DataFrame** is a two-dimensional labeled data structure with columns that can be of different data types. It is similar to a spreadsheet or SQL table.\n",
    "\n",
    "### Creating a DataFrame from a Dictionary\n",
    "\n",
    "You can create a DataFrame by passing a dictionary where the keys are column names and the values are lists of column data."
   ]
  },
  {
   "cell_type": "code",
   "execution_count": null,
   "id": "5e619793",
   "metadata": {},
   "outputs": [],
   "source": [
    "# Dictionary containing data\n",
    "data = {\n",
    "    'Name': ['Alice', 'Bob', 'Charlie', 'David'],\n",
    "    'Age': [25, 30, 35, 40],\n",
    "    'Country': ['USA', 'UK', 'Canada', 'Australia']\n",
    "}\n",
    "\n",
    "# Create a DataFrame from the dictionary\n",
    "df = pd.DataFrame(data)"
   ]
  },
  {
   "cell_type": "markdown",
   "id": "6eb77644",
   "metadata": {},
   "source": [
    "### Creating a DataFrame from a List of Dictionaries\n",
    "\n",
    "Sometimes, data is more naturally represented as a list of dictionaries, where each dictionary represents a row."
   ]
  },
  {
   "cell_type": "code",
   "execution_count": null,
   "id": "0aeb4c7a",
   "metadata": {},
   "outputs": [],
   "source": [
    "# List of dictionaries\n",
    "data = [\n",
    "    {'Name': 'Emma', 'Age': 29, 'Country': 'USA'},\n",
    "    {'Name': 'Liam', 'Age': 32, 'Country': 'UK'},\n",
    "    {'Name': 'Olivia', 'Age': 27, 'Country': 'Canada'}\n",
    "]\n",
    "\n",
    "# Create a DataFrame from the list of dictionaries\n",
    "df = pd.DataFrame(data)"
   ]
  },
  {
   "cell_type": "markdown",
   "id": "0651cce6",
   "metadata": {},
   "source": [
    "### Creating a DataFrame from a 2D NumPy Array\n",
    "\n",
    "You can also create a DataFrame from a 2D NumPy array by specifying the column names."
   ]
  },
  {
   "cell_type": "code",
   "execution_count": null,
   "id": "e8d60d6d",
   "metadata": {},
   "outputs": [],
   "source": [
    "# 2D NumPy array of data\n",
    "array_data = np.array([[5.1, 3.5, 1.4, 0.2],\n",
    "                       [4.9, 3.0, 1.4, 0.2],\n",
    "                       [6.2, 3.4, 5.4, 2.3]])\n",
    "\n",
    "# Column names\n",
    "columns = ['SepalLength', 'SepalWidth', 'PetalLength', 'PetalWidth']\n",
    "\n",
    "# Create a DataFrame from the NumPy array\n",
    "df = pd.DataFrame(array_data, columns=columns)"
   ]
  },
  {
   "cell_type": "markdown",
   "id": "56215147",
   "metadata": {},
   "source": [
    "### Creating a DataFrame from Multiple Series\n",
    "\n",
    "You can create a DataFrame by combining multiple Series objects."
   ]
  },
  {
   "cell_type": "code",
   "execution_count": null,
   "id": "3f4b8959",
   "metadata": {
    "lines_to_next_cell": 0
   },
   "outputs": [],
   "source": [
    "# Series of stock prices\n",
    "apple_stock = pd.Series([150, 153, 155], index=['2021-09-01', '2021-09-02', '2021-09-03'])\n",
    "google_stock = pd.Series([2800, 2825, 2850], index=['2021-09-01', '2021-09-02', '2021-09-03'])\n",
    "\n",
    "# Combine Series into a DataFrame\n",
    "stocks_df = pd.DataFrame({'Apple': apple_stock, 'Google': google_stock})"
   ]
  },
  {
   "cell_type": "markdown",
   "id": "fbaefcc9",
   "metadata": {},
   "source": [
    "## Manipulating DataFrames\n",
    "\n",
    "### Adding a Column\n",
    "\n",
    "You can add a new column to a DataFrame by assigning a Series or list to a new column name."
   ]
  },
  {
   "cell_type": "code",
   "execution_count": null,
   "id": "88f16200",
   "metadata": {},
   "outputs": [],
   "source": [
    "# Add a new column 'MarketCap' to the stocks DataFrame\n",
    "stocks_df['MarketCap'] = [2.5e12, 2.52e12, 2.55e12]"
   ]
  },
  {
   "cell_type": "markdown",
   "id": "fc35c15a",
   "metadata": {},
   "source": [
    "### Removing a Column\n",
    "\n",
    "To remove a column from a DataFrame, you can use the `drop()` method with `axis=1`."
   ]
  },
  {
   "cell_type": "code",
   "execution_count": null,
   "id": "270315ab",
   "metadata": {},
   "outputs": [],
   "source": [
    "# Remove the 'MarketCap' column\n",
    "stocks_df = stocks_df.drop('MarketCap', axis=1)"
   ]
  },
  {
   "cell_type": "markdown",
   "id": "667b8880",
   "metadata": {},
   "source": [
    "### Accessing Columns and Rows\n",
    "\n",
    "You can access columns using the column name."
   ]
  },
  {
   "cell_type": "code",
   "execution_count": null,
   "id": "0630dd4d",
   "metadata": {},
   "outputs": [],
   "source": [
    "# Access the 'Apple' stock prices\n",
    "apple_prices = stocks_df['Apple']"
   ]
  },
  {
   "cell_type": "markdown",
   "id": "b290e6ae",
   "metadata": {},
   "source": [
    "To access rows, you can use the `loc` and `iloc` methods.\n",
    "\n",
    "* `loc` is label-based and includes the last index.\n",
    "* `iloc` is integer position-based and excludes the last index."
   ]
  },
  {
   "cell_type": "code",
   "execution_count": null,
   "id": "550dbdb4",
   "metadata": {
    "lines_to_next_cell": 0
   },
   "outputs": [],
   "source": [
    "# Access rows by label\n",
    "row = stocks_df.loc['2021-09-02']\n",
    "\n",
    "# Access rows by integer position\n",
    "row = stocks_df.iloc[1]"
   ]
  },
  {
   "cell_type": "markdown",
   "id": "41358220",
   "metadata": {},
   "source": [
    "## Summary\n",
    "\n",
    "* **Series**: One-dimensional labeled array. Created from lists, dictionaries, or NumPy arrays.\n",
    "* **DataFrame**: Two-dimensional labeled data structure. Created from dictionaries, lists of dictionaries, NumPy arrays, or multiple Series.\n",
    "* **Manipulation**: Add or remove columns, access data using labels or positions.\n",
    "\n",
    "Understanding how to create and manipulate Series and DataFrames is fundamental when working with data in Pandas. These structures allow for efficient data analysis and manipulation, providing a foundation for more advanced operations."
   ]
  }
 ],
 "metadata": {
  "jupytext": {
   "cell_metadata_filter": "-all",
   "main_language": "python",
   "notebook_metadata_filter": "-all"
  },
  "language_info": {
   "name": "python"
  }
 },
 "nbformat": 4,
 "nbformat_minor": 5
}
