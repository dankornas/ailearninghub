{
 "cells": [
  {
   "cell_type": "markdown",
   "id": "b3e622df",
   "metadata": {},
   "source": [
    "<iframe\n",
    "  style=\"width: 100%; aspect-ratio: 16 / 9;\"\n",
    "  src=\"https://www.youtube.com/embed/pnuZ_xDllZU\"\n",
    "  title=\"YouTube video player\"\n",
    "  frameborder=\"0\"\n",
    "  allow=\"accelerometer; autoplay; clipboard-write; encrypted-media; gyroscope; picture-in-picture; web-share\"\n",
    "  allowfullscreen>\n",
    "</iframe>"
   ]
  },
  {
   "cell_type": "markdown",
   "id": "1951cc80",
   "metadata": {},
   "source": [
    "# Basics of Pandas in Python: More Operations and Functions\n",
    "\n",
    "In this tutorial, we'll explore some of the more advanced and useful functions that Pandas offers for data manipulation and analysis. These functions will help you retrieve basic information about your DataFrame, find unique values, apply custom functions, and sort your data efficiently.\n",
    "\n",
    "Let's start by importing Pandas and creating a sample DataFrame to work with:"
   ]
  },
  {
   "cell_type": "code",
   "execution_count": null,
   "id": "b291a140",
   "metadata": {},
   "outputs": [],
   "source": [
    "import pandas as pd\n",
    "\n",
    "# Create a sample DataFrame\n",
    "data = {\n",
    "    'Employee': ['Alice', 'Bob', 'Charlie', 'David', 'Eve'],\n",
    "    'Department': ['HR', 'IT', 'Finance', 'IT', 'HR'],\n",
    "    'Salary': [70000, 80000, 75000, 82000, 68000]\n",
    "}\n",
    "\n",
    "df = pd.DataFrame(data)"
   ]
  },
  {
   "cell_type": "markdown",
   "id": "49731729",
   "metadata": {},
   "source": [
    "## Retrieving Basic Information About the DataFrame\n",
    "\n",
    "Understanding the structure and content of your DataFrame is crucial before performing any analysis.\n",
    "\n",
    "### Getting a Summary of the DataFrame\n",
    "\n",
    "The `info()` method provides a concise summary of the DataFrame, including the index dtype, column dtypes, non-null values, and memory usage."
   ]
  },
  {
   "cell_type": "code",
   "execution_count": null,
   "id": "29d43787",
   "metadata": {},
   "outputs": [],
   "source": [
    "df.info()"
   ]
  },
  {
   "cell_type": "markdown",
   "id": "68e6f0df",
   "metadata": {},
   "source": [
    "### Accessing Column Names\n",
    "\n",
    "To retrieve the list of column names in your DataFrame, use the `columns` attribute:"
   ]
  },
  {
   "cell_type": "code",
   "execution_count": null,
   "id": "7d397d89",
   "metadata": {},
   "outputs": [],
   "source": [
    "df.columns"
   ]
  },
  {
   "cell_type": "markdown",
   "id": "e5dddcfa",
   "metadata": {},
   "source": [
    "### Viewing the DataFrame's Data\n",
    "\n",
    "The `keys()` method returns the columns of the DataFrame, similar to `columns`:"
   ]
  },
  {
   "cell_type": "code",
   "execution_count": null,
   "id": "23af5662",
   "metadata": {},
   "outputs": [],
   "source": [
    "df.keys()"
   ]
  },
  {
   "cell_type": "markdown",
   "id": "3db2a71b",
   "metadata": {},
   "source": [
    "### Displaying the First Few Rows\n",
    "\n",
    "Use the `head()` method to display the first few rows of the DataFrame. By default, it shows the first five rows, but you can specify the number of rows you want:"
   ]
  },
  {
   "cell_type": "code",
   "execution_count": null,
   "id": "48f96186",
   "metadata": {},
   "outputs": [],
   "source": [
    "df.head(3)"
   ]
  },
  {
   "cell_type": "markdown",
   "id": "f425cb73",
   "metadata": {},
   "source": [
    "### Displaying the Last Few Rows\n",
    "\n",
    "Similarly, use the `tail()` method to view the last few rows:"
   ]
  },
  {
   "cell_type": "code",
   "execution_count": null,
   "id": "30445f1b",
   "metadata": {},
   "outputs": [],
   "source": [
    "df.tail(2)"
   ]
  },
  {
   "cell_type": "markdown",
   "id": "461a6a1c",
   "metadata": {},
   "source": [
    "### Converting DataFrame to NumPy Array\n",
    "\n",
    "If you need to perform operations using NumPy, you can convert the DataFrame to a NumPy array using the `values` attribute:"
   ]
  },
  {
   "cell_type": "code",
   "execution_count": null,
   "id": "6fc7e327",
   "metadata": {},
   "outputs": [],
   "source": [
    "array_data = df.values"
   ]
  },
  {
   "cell_type": "markdown",
   "id": "af55e5e5",
   "metadata": {},
   "source": [
    "### Getting the Size of the DataFrame\n",
    "\n",
    "The `size` attribute returns the total number of elements in the DataFrame:"
   ]
  },
  {
   "cell_type": "code",
   "execution_count": null,
   "id": "cc8a1983",
   "metadata": {},
   "outputs": [],
   "source": [
    "total_elements = df.size"
   ]
  },
  {
   "cell_type": "markdown",
   "id": "945613d5",
   "metadata": {},
   "source": [
    "### Getting the Shape of the DataFrame\n",
    "\n",
    "The `shape` attribute provides the dimensions of the DataFrame in the form of `(number of rows, number of columns)`:"
   ]
  },
  {
   "cell_type": "code",
   "execution_count": null,
   "id": "1b91454a",
   "metadata": {},
   "outputs": [],
   "source": [
    "data_shape = df.shape"
   ]
  },
  {
   "cell_type": "markdown",
   "id": "cf22d58f",
   "metadata": {},
   "source": [
    "### Getting the Number of Rows and Columns\n",
    "\n",
    "To get the number of rows:"
   ]
  },
  {
   "cell_type": "code",
   "execution_count": null,
   "id": "e8b7503f",
   "metadata": {},
   "outputs": [],
   "source": [
    "num_rows = df.shape[0]"
   ]
  },
  {
   "cell_type": "markdown",
   "id": "0bf82f0d",
   "metadata": {},
   "source": [
    "To get the number of columns:"
   ]
  },
  {
   "cell_type": "code",
   "execution_count": null,
   "id": "3bc1cb0e",
   "metadata": {},
   "outputs": [],
   "source": [
    "num_columns = df.shape[1]"
   ]
  },
  {
   "cell_type": "markdown",
   "id": "990ef7c9",
   "metadata": {},
   "source": [
    "## Unique Values in the DataFrame\n",
    "\n",
    "Analyzing unique values in your data can help identify categories, duplicates, or perform aggregations.\n",
    "\n",
    "### Retrieving Unique Values from a Column\n",
    "\n",
    "Use the `unique()` method to find all unique values in a specific column:"
   ]
  },
  {
   "cell_type": "code",
   "execution_count": null,
   "id": "e0f1eed5",
   "metadata": {},
   "outputs": [],
   "source": [
    "unique_departments = df['Department'].unique()"
   ]
  },
  {
   "cell_type": "markdown",
   "id": "6be315c6",
   "metadata": {},
   "source": [
    "### Counting the Number of Unique Values\n",
    "\n",
    "The `nunique()` method returns the number of unique values in a column:"
   ]
  },
  {
   "cell_type": "code",
   "execution_count": null,
   "id": "764c98d2",
   "metadata": {},
   "outputs": [],
   "source": [
    "num_unique_departments = df['Department'].nunique()"
   ]
  },
  {
   "cell_type": "markdown",
   "id": "6c6c30d2",
   "metadata": {},
   "source": [
    "### Counting Occurrences of Each Value\n",
    "\n",
    "The `value_counts()` method counts the frequency of each unique value in a column:"
   ]
  },
  {
   "cell_type": "code",
   "execution_count": null,
   "id": "c876e4bc",
   "metadata": {},
   "outputs": [],
   "source": [
    "department_counts = df['Department'].value_counts()"
   ]
  },
  {
   "cell_type": "markdown",
   "id": "d3744e6f",
   "metadata": {},
   "source": [
    "## Applying a Function to the DataFrame\n",
    "\n",
    "Applying functions allows you to perform complex transformations and calculations on your data.\n",
    "\n",
    "### Applying a Function to a Column\n",
    "\n",
    "Suppose you want to calculate a 10% bonus for each employee based on their salary:"
   ]
  },
  {
   "cell_type": "code",
   "execution_count": null,
   "id": "07907de4",
   "metadata": {},
   "outputs": [],
   "source": [
    "def calculate_bonus(salary):\n",
    "    return salary * 0.10\n",
    "\n",
    "df['Bonus'] = df['Salary'].apply(calculate_bonus)"
   ]
  },
  {
   "cell_type": "markdown",
   "id": "525eed4f",
   "metadata": {},
   "source": [
    "### Applying an Anonymous Function (Lambda) to a Column\n",
    "\n",
    "You can also use a lambda function for simplicity:"
   ]
  },
  {
   "cell_type": "code",
   "execution_count": null,
   "id": "13baee08",
   "metadata": {},
   "outputs": [],
   "source": [
    "df['Adjusted Salary'] = df['Salary'].apply(lambda x: x * 1.05)"
   ]
  },
  {
   "cell_type": "markdown",
   "id": "1fe61004",
   "metadata": {},
   "source": [
    "### Applying a Function Element-wise\n",
    "\n",
    "If you want to apply a function to every element in the DataFrame, use `applymap()`. For example, converting all string data to uppercase:"
   ]
  },
  {
   "cell_type": "code",
   "execution_count": null,
   "id": "81536d27",
   "metadata": {},
   "outputs": [],
   "source": [
    "df_upper = df.applymap(lambda x: x.upper() if type(x) == str else x)"
   ]
  },
  {
   "cell_type": "markdown",
   "id": "f2d10458",
   "metadata": {},
   "source": [
    "## Sorting Values in the DataFrame\n",
    "\n",
    "Sorting data is essential for organizing and analyzing it effectively.\n",
    "\n",
    "### Sorting by a Single Column\n",
    "\n",
    "To sort the DataFrame based on the 'Salary' column in ascending order:"
   ]
  },
  {
   "cell_type": "code",
   "execution_count": null,
   "id": "ccca0db5",
   "metadata": {},
   "outputs": [],
   "source": [
    "df_sorted_salary = df.sort_values('Salary')"
   ]
  },
  {
   "cell_type": "markdown",
   "id": "0dbc4bb5",
   "metadata": {},
   "source": [
    "### Sorting in Descending Order\n",
    "\n",
    "To sort the DataFrame in descending order:"
   ]
  },
  {
   "cell_type": "code",
   "execution_count": null,
   "id": "8ab39535",
   "metadata": {},
   "outputs": [],
   "source": [
    "df_sorted_salary_desc = df.sort_values('Salary', ascending=False)"
   ]
  },
  {
   "cell_type": "markdown",
   "id": "6fe03661",
   "metadata": {},
   "source": [
    "### Sorting by Multiple Columns\n",
    "\n",
    "You can sort by multiple columns by passing a list of column names. For example, sorting by 'Department' and then by 'Salary':"
   ]
  },
  {
   "cell_type": "code",
   "execution_count": null,
   "id": "e226f6dd",
   "metadata": {},
   "outputs": [],
   "source": [
    "df_sorted_multi = df.sort_values(['Department', 'Salary'])"
   ]
  },
  {
   "cell_type": "markdown",
   "id": "e72a62b9",
   "metadata": {},
   "source": [
    "### Sorting and Resetting Index\n",
    "\n",
    "After sorting, the index remains attached to the original rows. To reset the index:"
   ]
  },
  {
   "cell_type": "code",
   "execution_count": null,
   "id": "18acc56a",
   "metadata": {},
   "outputs": [],
   "source": [
    "df_sorted_salary.reset_index(drop=True, inplace=True)"
   ]
  }
 ],
 "metadata": {
  "jupytext": {
   "cell_metadata_filter": "-all",
   "main_language": "python",
   "notebook_metadata_filter": "-all"
  },
  "kernelspec": {
   "display_name": "py310",
   "language": "python",
   "name": "python3"
  },
  "language_info": {
   "name": "python",
   "version": "3.10.14"
  }
 },
 "nbformat": 4,
 "nbformat_minor": 5
}
