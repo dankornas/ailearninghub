{
 "cells": [
  {
   "cell_type": "markdown",
   "id": "0ba48114",
   "metadata": {},
   "source": [
    "<iframe\n",
    "  style=\"width: 100%; aspect-ratio: 16 / 9;\"\n",
    "  src=\"https://www.youtube.com/embed/0XYIWsNPXNc\"\n",
    "  title=\"YouTube video player\"\n",
    "  frameborder=\"0\"\n",
    "  allow=\"accelerometer; autoplay; clipboard-write; encrypted-media; gyroscope; picture-in-picture; web-share\"\n",
    "  allowfullscreen>\n",
    "</iframe>"
   ]
  },
  {
   "cell_type": "markdown",
   "id": "bc973ae2",
   "metadata": {},
   "source": [
    "# **Combining Datasets in Pandas: Concatenating, Joining, and Merging**\n",
    "\n",
    "In data analysis, we often need to combine datasets for a more comprehensive analysis. Pandas provides powerful methods for combining datasets: **concatenating**, **joining**, and **merging**. In this tutorial, we will cover these three methods with examples.\n",
    "\n",
    "### **Concatenation**\n",
    "\n",
    "Concatenation involves stacking datasets either vertically (row-wise) or horizontally (column-wise). It is useful when you need to combine datasets with the same structure.\n",
    "\n",
    "#### **Creating DataFrames for Concatenation**\n",
    "\n",
    "We will start by creating three DataFrames with sales data from different months."
   ]
  },
  {
   "cell_type": "code",
   "execution_count": 1,
   "id": "41195550",
   "metadata": {},
   "outputs": [],
   "source": [
    "import pandas as pd\n",
    "\n",
    "# Creating DataFrames with sales data\n",
    "sales_jan = pd.DataFrame({\n",
    "    'Product': ['Apples', 'Bananas', 'Cherries'],\n",
    "    'Sales': [150, 200, 90],\n",
    "}, index=['a', 'b', 'c'])\n",
    "\n",
    "sales_feb = pd.DataFrame({\n",
    "    'Product': ['Apples', 'Bananas', 'Cherries'],\n",
    "    'Sales': [180, 210, 120],\n",
    "}, index=['d', 'e', 'f'])\n",
    "\n",
    "sales_mar = pd.DataFrame({\n",
    "    'Product': ['Apples', 'Bananas', 'Cherries'],\n",
    "    'Sales': [170, 220, 110],\n",
    "}, index=['g', 'h', 'i'])"
   ]
  },
  {
   "cell_type": "markdown",
   "id": "93c60c8b",
   "metadata": {},
   "source": [
    "#### **Concatenating DataFrames Vertically (Row-wise)**\n",
    "\n",
    "The `pd.concat()` function is used to concatenate DataFrames. By default, it concatenates row-wise."
   ]
  },
  {
   "cell_type": "code",
   "execution_count": 2,
   "id": "e6e3e274",
   "metadata": {},
   "outputs": [
    {
     "data": {
      "text/html": [
       "<div>\n",
       "<style scoped>\n",
       "    .dataframe tbody tr th:only-of-type {\n",
       "        vertical-align: middle;\n",
       "    }\n",
       "\n",
       "    .dataframe tbody tr th {\n",
       "        vertical-align: top;\n",
       "    }\n",
       "\n",
       "    .dataframe thead th {\n",
       "        text-align: right;\n",
       "    }\n",
       "</style>\n",
       "<table border=\"1\" class=\"dataframe\">\n",
       "  <thead>\n",
       "    <tr style=\"text-align: right;\">\n",
       "      <th></th>\n",
       "      <th>Product</th>\n",
       "      <th>Sales</th>\n",
       "    </tr>\n",
       "  </thead>\n",
       "  <tbody>\n",
       "    <tr>\n",
       "      <th>a</th>\n",
       "      <td>Apples</td>\n",
       "      <td>150</td>\n",
       "    </tr>\n",
       "    <tr>\n",
       "      <th>b</th>\n",
       "      <td>Bananas</td>\n",
       "      <td>200</td>\n",
       "    </tr>\n",
       "    <tr>\n",
       "      <th>c</th>\n",
       "      <td>Cherries</td>\n",
       "      <td>90</td>\n",
       "    </tr>\n",
       "    <tr>\n",
       "      <th>d</th>\n",
       "      <td>Apples</td>\n",
       "      <td>180</td>\n",
       "    </tr>\n",
       "    <tr>\n",
       "      <th>e</th>\n",
       "      <td>Bananas</td>\n",
       "      <td>210</td>\n",
       "    </tr>\n",
       "    <tr>\n",
       "      <th>f</th>\n",
       "      <td>Cherries</td>\n",
       "      <td>120</td>\n",
       "    </tr>\n",
       "    <tr>\n",
       "      <th>g</th>\n",
       "      <td>Apples</td>\n",
       "      <td>170</td>\n",
       "    </tr>\n",
       "    <tr>\n",
       "      <th>h</th>\n",
       "      <td>Bananas</td>\n",
       "      <td>220</td>\n",
       "    </tr>\n",
       "    <tr>\n",
       "      <th>i</th>\n",
       "      <td>Cherries</td>\n",
       "      <td>110</td>\n",
       "    </tr>\n",
       "  </tbody>\n",
       "</table>\n",
       "</div>"
      ],
      "text/plain": [
       "    Product  Sales\n",
       "a    Apples    150\n",
       "b   Bananas    200\n",
       "c  Cherries     90\n",
       "d    Apples    180\n",
       "e   Bananas    210\n",
       "f  Cherries    120\n",
       "g    Apples    170\n",
       "h   Bananas    220\n",
       "i  Cherries    110"
      ]
     },
     "execution_count": 2,
     "metadata": {},
     "output_type": "execute_result"
    }
   ],
   "source": [
    "# Concatenating DataFrames for January, February, and March sales data\n",
    "pd.concat([sales_jan, sales_feb, sales_mar])"
   ]
  },
  {
   "cell_type": "markdown",
   "id": "38293031",
   "metadata": {},
   "source": [
    "This combines the sales data from January, February, and March into one DataFrame.\n",
    "\n",
    "#### **Concatenating DataFrames Horizontally (Column-wise)**\n",
    "\n",
    "We can also concatenate the DataFrames column-wise by specifying `axis=1`."
   ]
  },
  {
   "cell_type": "code",
   "execution_count": 3,
   "id": "24488bf1",
   "metadata": {},
   "outputs": [
    {
     "data": {
      "text/html": [
       "<div>\n",
       "<style scoped>\n",
       "    .dataframe tbody tr th:only-of-type {\n",
       "        vertical-align: middle;\n",
       "    }\n",
       "\n",
       "    .dataframe tbody tr th {\n",
       "        vertical-align: top;\n",
       "    }\n",
       "\n",
       "    .dataframe thead th {\n",
       "        text-align: right;\n",
       "    }\n",
       "</style>\n",
       "<table border=\"1\" class=\"dataframe\">\n",
       "  <thead>\n",
       "    <tr style=\"text-align: right;\">\n",
       "      <th></th>\n",
       "      <th>Product</th>\n",
       "      <th>Sales</th>\n",
       "      <th>Product</th>\n",
       "      <th>Sales</th>\n",
       "      <th>Product</th>\n",
       "      <th>Sales</th>\n",
       "    </tr>\n",
       "  </thead>\n",
       "  <tbody>\n",
       "    <tr>\n",
       "      <th>a</th>\n",
       "      <td>Apples</td>\n",
       "      <td>150.0</td>\n",
       "      <td>NaN</td>\n",
       "      <td>NaN</td>\n",
       "      <td>NaN</td>\n",
       "      <td>NaN</td>\n",
       "    </tr>\n",
       "    <tr>\n",
       "      <th>b</th>\n",
       "      <td>Bananas</td>\n",
       "      <td>200.0</td>\n",
       "      <td>NaN</td>\n",
       "      <td>NaN</td>\n",
       "      <td>NaN</td>\n",
       "      <td>NaN</td>\n",
       "    </tr>\n",
       "    <tr>\n",
       "      <th>c</th>\n",
       "      <td>Cherries</td>\n",
       "      <td>90.0</td>\n",
       "      <td>NaN</td>\n",
       "      <td>NaN</td>\n",
       "      <td>NaN</td>\n",
       "      <td>NaN</td>\n",
       "    </tr>\n",
       "    <tr>\n",
       "      <th>d</th>\n",
       "      <td>NaN</td>\n",
       "      <td>NaN</td>\n",
       "      <td>Apples</td>\n",
       "      <td>180.0</td>\n",
       "      <td>NaN</td>\n",
       "      <td>NaN</td>\n",
       "    </tr>\n",
       "    <tr>\n",
       "      <th>e</th>\n",
       "      <td>NaN</td>\n",
       "      <td>NaN</td>\n",
       "      <td>Bananas</td>\n",
       "      <td>210.0</td>\n",
       "      <td>NaN</td>\n",
       "      <td>NaN</td>\n",
       "    </tr>\n",
       "    <tr>\n",
       "      <th>f</th>\n",
       "      <td>NaN</td>\n",
       "      <td>NaN</td>\n",
       "      <td>Cherries</td>\n",
       "      <td>120.0</td>\n",
       "      <td>NaN</td>\n",
       "      <td>NaN</td>\n",
       "    </tr>\n",
       "    <tr>\n",
       "      <th>g</th>\n",
       "      <td>NaN</td>\n",
       "      <td>NaN</td>\n",
       "      <td>NaN</td>\n",
       "      <td>NaN</td>\n",
       "      <td>Apples</td>\n",
       "      <td>170.0</td>\n",
       "    </tr>\n",
       "    <tr>\n",
       "      <th>h</th>\n",
       "      <td>NaN</td>\n",
       "      <td>NaN</td>\n",
       "      <td>NaN</td>\n",
       "      <td>NaN</td>\n",
       "      <td>Bananas</td>\n",
       "      <td>220.0</td>\n",
       "    </tr>\n",
       "    <tr>\n",
       "      <th>i</th>\n",
       "      <td>NaN</td>\n",
       "      <td>NaN</td>\n",
       "      <td>NaN</td>\n",
       "      <td>NaN</td>\n",
       "      <td>Cherries</td>\n",
       "      <td>110.0</td>\n",
       "    </tr>\n",
       "  </tbody>\n",
       "</table>\n",
       "</div>"
      ],
      "text/plain": [
       "    Product  Sales   Product  Sales   Product  Sales\n",
       "a    Apples  150.0       NaN    NaN       NaN    NaN\n",
       "b   Bananas  200.0       NaN    NaN       NaN    NaN\n",
       "c  Cherries   90.0       NaN    NaN       NaN    NaN\n",
       "d       NaN    NaN    Apples  180.0       NaN    NaN\n",
       "e       NaN    NaN   Bananas  210.0       NaN    NaN\n",
       "f       NaN    NaN  Cherries  120.0       NaN    NaN\n",
       "g       NaN    NaN       NaN    NaN    Apples  170.0\n",
       "h       NaN    NaN       NaN    NaN   Bananas  220.0\n",
       "i       NaN    NaN       NaN    NaN  Cherries  110.0"
      ]
     },
     "execution_count": 3,
     "metadata": {},
     "output_type": "execute_result"
    }
   ],
   "source": [
    "# Concatenating sales data column-wise\n",
    "pd.concat([sales_jan, sales_feb, sales_mar], axis=1)"
   ]
  },
  {
   "cell_type": "markdown",
   "id": "628ce7b0",
   "metadata": {},
   "source": [
    "This combines the DataFrames side by side. If the index values don’t match, Pandas fills in the missing entries with `NaN`."
   ]
  },
  {
   "cell_type": "markdown",
   "id": "2a2e9284",
   "metadata": {},
   "source": [
    "### **Merging**\n",
    "\n",
    "Merging combines two DataFrames by matching rows based on one or more columns. This is particularly useful for linking datasets that have a common key.\n",
    "\n",
    "#### **Creating DataFrames for Merging**\n",
    "\n",
    "Let’s create two DataFrames that hold information about customers and their purchases."
   ]
  },
  {
   "cell_type": "code",
   "execution_count": 4,
   "id": "cabd89c7",
   "metadata": {},
   "outputs": [],
   "source": [
    "# Creating customer data\n",
    "customers = pd.DataFrame({\n",
    "    'CustomerID': [101, 102, 103, 104],\n",
    "    'Name': ['Alice', 'Bob', 'Charlie', 'Diana']\n",
    "})\n",
    "\n",
    "# Creating purchase data\n",
    "purchases = pd.DataFrame({\n",
    "    'CustomerID': [104, 101, 103],\n",
    "    'PurchaseAmount': [250, 300, 150]\n",
    "})"
   ]
  },
  {
   "cell_type": "markdown",
   "id": "c1a7fb97",
   "metadata": {},
   "source": [
    "#### **Merging with Inner Join (Default)**\n",
    "\n",
    "The default merge type is an inner join, which returns rows where the values match in both DataFrames."
   ]
  },
  {
   "cell_type": "code",
   "execution_count": 5,
   "id": "5b6e6b50",
   "metadata": {},
   "outputs": [
    {
     "data": {
      "text/html": [
       "<div>\n",
       "<style scoped>\n",
       "    .dataframe tbody tr th:only-of-type {\n",
       "        vertical-align: middle;\n",
       "    }\n",
       "\n",
       "    .dataframe tbody tr th {\n",
       "        vertical-align: top;\n",
       "    }\n",
       "\n",
       "    .dataframe thead th {\n",
       "        text-align: right;\n",
       "    }\n",
       "</style>\n",
       "<table border=\"1\" class=\"dataframe\">\n",
       "  <thead>\n",
       "    <tr style=\"text-align: right;\">\n",
       "      <th></th>\n",
       "      <th>CustomerID</th>\n",
       "      <th>Name</th>\n",
       "      <th>PurchaseAmount</th>\n",
       "    </tr>\n",
       "  </thead>\n",
       "  <tbody>\n",
       "    <tr>\n",
       "      <th>0</th>\n",
       "      <td>101</td>\n",
       "      <td>Alice</td>\n",
       "      <td>300</td>\n",
       "    </tr>\n",
       "    <tr>\n",
       "      <th>1</th>\n",
       "      <td>103</td>\n",
       "      <td>Charlie</td>\n",
       "      <td>150</td>\n",
       "    </tr>\n",
       "    <tr>\n",
       "      <th>2</th>\n",
       "      <td>104</td>\n",
       "      <td>Diana</td>\n",
       "      <td>250</td>\n",
       "    </tr>\n",
       "  </tbody>\n",
       "</table>\n",
       "</div>"
      ],
      "text/plain": [
       "   CustomerID     Name  PurchaseAmount\n",
       "0         101    Alice             300\n",
       "1         103  Charlie             150\n",
       "2         104    Diana             250"
      ]
     },
     "execution_count": 5,
     "metadata": {},
     "output_type": "execute_result"
    }
   ],
   "source": [
    "# Performing an inner join based on 'CustomerID'\n",
    "pd.merge(customers, purchases, on='CustomerID')"
   ]
  },
  {
   "cell_type": "markdown",
   "id": "01417e14",
   "metadata": {},
   "source": [
    "This will give us a DataFrame with customers who made a purchase and their corresponding purchase amounts.\n",
    "\n",
    "#### **Outer, Left, and Right Joins**\n",
    "\n",
    "Pandas supports different types of joins:\n",
    "\n",
    "* **Outer Join**: Includes all rows from both DataFrames, filling missing values with `NaN`.\n",
    "* **Left Join**: Includes all rows from the left DataFrame and matches from the right.\n",
    "* **Right Join**: Includes all rows from the right DataFrame and matches from the left."
   ]
  },
  {
   "cell_type": "code",
   "execution_count": 6,
   "id": "49ecc8fd",
   "metadata": {},
   "outputs": [
    {
     "data": {
      "text/html": [
       "<div>\n",
       "<style scoped>\n",
       "    .dataframe tbody tr th:only-of-type {\n",
       "        vertical-align: middle;\n",
       "    }\n",
       "\n",
       "    .dataframe tbody tr th {\n",
       "        vertical-align: top;\n",
       "    }\n",
       "\n",
       "    .dataframe thead th {\n",
       "        text-align: right;\n",
       "    }\n",
       "</style>\n",
       "<table border=\"1\" class=\"dataframe\">\n",
       "  <thead>\n",
       "    <tr style=\"text-align: right;\">\n",
       "      <th></th>\n",
       "      <th>CustomerID</th>\n",
       "      <th>Name</th>\n",
       "      <th>PurchaseAmount</th>\n",
       "    </tr>\n",
       "  </thead>\n",
       "  <tbody>\n",
       "    <tr>\n",
       "      <th>0</th>\n",
       "      <td>104</td>\n",
       "      <td>Diana</td>\n",
       "      <td>250</td>\n",
       "    </tr>\n",
       "    <tr>\n",
       "      <th>1</th>\n",
       "      <td>101</td>\n",
       "      <td>Alice</td>\n",
       "      <td>300</td>\n",
       "    </tr>\n",
       "    <tr>\n",
       "      <th>2</th>\n",
       "      <td>103</td>\n",
       "      <td>Charlie</td>\n",
       "      <td>150</td>\n",
       "    </tr>\n",
       "  </tbody>\n",
       "</table>\n",
       "</div>"
      ],
      "text/plain": [
       "   CustomerID     Name  PurchaseAmount\n",
       "0         104    Diana             250\n",
       "1         101    Alice             300\n",
       "2         103  Charlie             150"
      ]
     },
     "execution_count": 6,
     "metadata": {},
     "output_type": "execute_result"
    }
   ],
   "source": [
    "# Outer join to include all customers and purchases\n",
    "pd.merge(customers, purchases, how='outer', on='CustomerID')\n",
    "\n",
    "# Left join to include all customers\n",
    "# pd.merge(customers, purchases, how='left', on='CustomerID')\n",
    "\n",
    "# Right join to include all purchases\n",
    "pd.merge(customers, purchases, how='right', on='CustomerID')"
   ]
  },
  {
   "cell_type": "markdown",
   "id": "a4203bb2",
   "metadata": {},
   "source": [
    "#### **Merging on Multiple Columns**\n",
    "\n",
    "Let’s create two more DataFrames with sales data to demonstrate merging on multiple columns."
   ]
  },
  {
   "cell_type": "code",
   "execution_count": 7,
   "id": "6c4f96d3",
   "metadata": {},
   "outputs": [
    {
     "name": "stdout",
     "output_type": "stream",
     "text": [
      "Merged DataFrame:\n",
      "  StoreID   Product  Sales         City Manager\n",
      "0      S1    Apples    120     New York    John\n",
      "1      S2   Bananas    200  Los Angeles    Anna\n",
      "2      S3  Cherries     90      Chicago   Peter\n"
     ]
    }
   ],
   "source": [
    "import pandas as pd\n",
    "\n",
    "# Creating DataFrames with multiple keys\n",
    "sales_info = pd.DataFrame({\n",
    "    'StoreID': ['S1', 'S2', 'S3', 'S4'],\n",
    "    'Product': ['Apples', 'Bananas', 'Cherries', 'Corn'],\n",
    "    'Sales': [120, 200, 90, 150]\n",
    "})\n",
    "\n",
    "store_info = pd.DataFrame({\n",
    "    'StoreID': ['S1', 'S2', 'S3', 'S4'],\n",
    "    'Product': ['Apples', 'Bananas', 'Cherries', 'Dates'],\n",
    "    'City': ['New York', 'Los Angeles', 'Chicago', 'Houston'],\n",
    "    'Manager': ['John', 'Anna', 'Peter', 'Mike']\n",
    "})\n",
    "\n",
    "# Merging on both 'StoreID' and 'Product'\n",
    "merged_data = pd.merge(sales_info, store_info, on=['StoreID', 'Product'])\n",
    "\n",
    "# Displaying merged DataFrame\n",
    "print(\"Merged DataFrame:\")\n",
    "print(merged_data)"
   ]
  },
  {
   "cell_type": "markdown",
   "id": "89e83ef6",
   "metadata": {},
   "source": [
    "This will merge both DataFrames on `StoreID` and add the additional information like city and manager.\n",
    "\n",
    "### **Joining**\n",
    "\n",
    "Joining is used to combine DataFrames based on their index. It is ideal when you want to align datasets using the row labels.\n",
    "\n",
    "#### **Creating DataFrames for Joining**\n",
    "\n",
    "Let’s create two DataFrames with sales and revenue data where the indexes represent different stores."
   ]
  },
  {
   "cell_type": "code",
   "execution_count": 8,
   "id": "dc613053",
   "metadata": {},
   "outputs": [],
   "source": [
    "# Creating sales and revenue data\n",
    "sales_data = pd.DataFrame({\n",
    "    'StoreID': ['S1', 'S2', 'S3'],\n",
    "    'Sales': [300, 450, 150]\n",
    "}, index=['NY', 'LA', 'CH'])\n",
    "\n",
    "revenue_data = pd.DataFrame({\n",
    "    'Revenue': [1200, 1500, 700]\n",
    "}, index=['NY', 'LA', 'SF'])"
   ]
  },
  {
   "cell_type": "markdown",
   "id": "a1842ccc",
   "metadata": {},
   "source": [
    "#### **Joining DataFrames Based on Index**\n",
    "\n",
    "We can join these two DataFrames based on their index using the `join()` method."
   ]
  },
  {
   "cell_type": "code",
   "execution_count": 9,
   "id": "ebdc6ed3",
   "metadata": {},
   "outputs": [
    {
     "data": {
      "text/html": [
       "<div>\n",
       "<style scoped>\n",
       "    .dataframe tbody tr th:only-of-type {\n",
       "        vertical-align: middle;\n",
       "    }\n",
       "\n",
       "    .dataframe tbody tr th {\n",
       "        vertical-align: top;\n",
       "    }\n",
       "\n",
       "    .dataframe thead th {\n",
       "        text-align: right;\n",
       "    }\n",
       "</style>\n",
       "<table border=\"1\" class=\"dataframe\">\n",
       "  <thead>\n",
       "    <tr style=\"text-align: right;\">\n",
       "      <th></th>\n",
       "      <th>StoreID</th>\n",
       "      <th>Sales</th>\n",
       "      <th>Revenue</th>\n",
       "    </tr>\n",
       "  </thead>\n",
       "  <tbody>\n",
       "    <tr>\n",
       "      <th>NY</th>\n",
       "      <td>S1</td>\n",
       "      <td>300</td>\n",
       "      <td>1200.0</td>\n",
       "    </tr>\n",
       "    <tr>\n",
       "      <th>LA</th>\n",
       "      <td>S2</td>\n",
       "      <td>450</td>\n",
       "      <td>1500.0</td>\n",
       "    </tr>\n",
       "    <tr>\n",
       "      <th>CH</th>\n",
       "      <td>S3</td>\n",
       "      <td>150</td>\n",
       "      <td>NaN</td>\n",
       "    </tr>\n",
       "  </tbody>\n",
       "</table>\n",
       "</div>"
      ],
      "text/plain": [
       "   StoreID  Sales  Revenue\n",
       "NY      S1    300   1200.0\n",
       "LA      S2    450   1500.0\n",
       "CH      S3    150      NaN"
      ]
     },
     "execution_count": 9,
     "metadata": {},
     "output_type": "execute_result"
    }
   ],
   "source": [
    "# Joining sales and revenue data based on index\n",
    "sales_data.join(revenue_data)"
   ]
  },
  {
   "cell_type": "markdown",
   "id": "6762aaee",
   "metadata": {},
   "source": [
    "This will join the two DataFrames where their indexes match.\n",
    "\n",
    "#### **Inner and Outer Joins with Index**\n",
    "\n",
    "You can specify whether to perform an inner or outer join when joining on the index."
   ]
  },
  {
   "cell_type": "code",
   "execution_count": 10,
   "id": "05f3ea41",
   "metadata": {},
   "outputs": [
    {
     "data": {
      "text/html": [
       "<div>\n",
       "<style scoped>\n",
       "    .dataframe tbody tr th:only-of-type {\n",
       "        vertical-align: middle;\n",
       "    }\n",
       "\n",
       "    .dataframe tbody tr th {\n",
       "        vertical-align: top;\n",
       "    }\n",
       "\n",
       "    .dataframe thead th {\n",
       "        text-align: right;\n",
       "    }\n",
       "</style>\n",
       "<table border=\"1\" class=\"dataframe\">\n",
       "  <thead>\n",
       "    <tr style=\"text-align: right;\">\n",
       "      <th></th>\n",
       "      <th>StoreID</th>\n",
       "      <th>Sales</th>\n",
       "      <th>Revenue</th>\n",
       "    </tr>\n",
       "  </thead>\n",
       "  <tbody>\n",
       "    <tr>\n",
       "      <th>CH</th>\n",
       "      <td>S3</td>\n",
       "      <td>150.0</td>\n",
       "      <td>NaN</td>\n",
       "    </tr>\n",
       "    <tr>\n",
       "      <th>LA</th>\n",
       "      <td>S2</td>\n",
       "      <td>450.0</td>\n",
       "      <td>1500.0</td>\n",
       "    </tr>\n",
       "    <tr>\n",
       "      <th>NY</th>\n",
       "      <td>S1</td>\n",
       "      <td>300.0</td>\n",
       "      <td>1200.0</td>\n",
       "    </tr>\n",
       "    <tr>\n",
       "      <th>SF</th>\n",
       "      <td>NaN</td>\n",
       "      <td>NaN</td>\n",
       "      <td>700.0</td>\n",
       "    </tr>\n",
       "  </tbody>\n",
       "</table>\n",
       "</div>"
      ],
      "text/plain": [
       "   StoreID  Sales  Revenue\n",
       "CH      S3  150.0      NaN\n",
       "LA      S2  450.0   1500.0\n",
       "NY      S1  300.0   1200.0\n",
       "SF     NaN    NaN    700.0"
      ]
     },
     "execution_count": 10,
     "metadata": {},
     "output_type": "execute_result"
    }
   ],
   "source": [
    "# Performing an inner join (only matching indexes)\n",
    "sales_data.join(revenue_data, how='inner')\n",
    "\n",
    "# Performing an outer join (includes all indexes)\n",
    "sales_data.join(revenue_data, how='outer')"
   ]
  }
 ],
 "metadata": {
  "jupytext": {
   "cell_metadata_filter": "-all",
   "main_language": "python",
   "notebook_metadata_filter": "-all"
  },
  "kernelspec": {
   "display_name": "py310",
   "language": "python",
   "name": "python3"
  },
  "language_info": {
   "codemirror_mode": {
    "name": "ipython",
    "version": 3
   },
   "file_extension": ".py",
   "mimetype": "text/x-python",
   "name": "python",
   "nbconvert_exporter": "python",
   "pygments_lexer": "ipython3",
   "version": "3.10.14"
  }
 },
 "nbformat": 4,
 "nbformat_minor": 5
}
